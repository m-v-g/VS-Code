{
 "cells": [
  {
   "cell_type": "markdown",
   "metadata": {},
   "source": [
    "https://www.youtube.com/watch?v=LkHCy5JZtsA"
   ]
  },
  {
   "cell_type": "markdown",
   "metadata": {},
   "source": [
    "1. Распаковка"
   ]
  },
  {
   "cell_type": "code",
   "execution_count": 9,
   "metadata": {},
   "outputs": [
    {
     "name": "stdout",
     "output_type": "stream",
     "text": [
      "x = 1\n",
      "y = 2\n",
      "z = 3\n"
     ]
    }
   ],
   "source": [
    "sizes = input()\n",
    "sizes = sizes.strip()\n",
    "sizes = sizes.split()\n",
    "x = sizes[0]\n",
    "y = sizes[1]\n",
    "z = sizes[2]\n",
    "\n",
    "print(\"x = \" + x)\n",
    "print(\"y = \" + y)\n",
    "print(\"z = \" + z)"
   ]
  },
  {
   "cell_type": "code",
   "execution_count": 6,
   "metadata": {},
   "outputs": [
    {
     "name": "stdout",
     "output_type": "stream",
     "text": [
      "x = '1', y = '2', z = '3'\n"
     ]
    }
   ],
   "source": [
    "x, y, z = input().strip().split()\n",
    "\n",
    "print(f\"{x = }, {y = }, {z = }\")"
   ]
  },
  {
   "cell_type": "markdown",
   "metadata": {},
   "source": [
    "2. map вместо цикла"
   ]
  },
  {
   "cell_type": "code",
   "execution_count": 10,
   "metadata": {},
   "outputs": [
    {
     "name": "stdout",
     "output_type": "stream",
     "text": [
      "x = 1, y = 2, z = 3\n"
     ]
    }
   ],
   "source": [
    "x, y, z = input().strip().split()\n",
    "\n",
    "x = int(x)\n",
    "y = int(y)\n",
    "z = int(z)\n",
    "\n",
    "print(f\"{x = }, {y = }, {z = }\")"
   ]
  },
  {
   "cell_type": "code",
   "execution_count": 12,
   "metadata": {},
   "outputs": [
    {
     "name": "stdout",
     "output_type": "stream",
     "text": [
      "volume = 6\n"
     ]
    }
   ],
   "source": [
    "x, y, z = input().strip().split()\n",
    "\n",
    "x, y, z = map(int, (x, y, z))\n",
    "volume = x * y * z\n",
    "\n",
    "print(f\"{volume = }\")"
   ]
  },
  {
   "cell_type": "code",
   "execution_count": 13,
   "metadata": {},
   "outputs": [
    {
     "name": "stdout",
     "output_type": "stream",
     "text": [
      "volume = 6\n"
     ]
    }
   ],
   "source": [
    "x, y, z = map(int, input().strip().split())\n",
    "\n",
    "volume = x * y * z\n",
    "\n",
    "print(f\"{volume = }\")"
   ]
  },
  {
   "cell_type": "markdown",
   "metadata": {},
   "source": [
    "3. reduce вместо цикла"
   ]
  },
  {
   "cell_type": "code",
   "execution_count": 14,
   "metadata": {},
   "outputs": [
    {
     "name": "stdout",
     "output_type": "stream",
     "text": [
      "volume = 6\n"
     ]
    }
   ],
   "source": [
    "from functools import reduce\n",
    "\n",
    "volume = reduce(lambda x,y: x * y, map(int, input().strip().split()))\n",
    "\n",
    "print(f\"{volume = }\")"
   ]
  },
  {
   "cell_type": "markdown",
   "metadata": {},
   "source": [
    "4. Comprehensions вместо цикла"
   ]
  },
  {
   "cell_type": "code",
   "execution_count": 15,
   "metadata": {},
   "outputs": [
    {
     "name": "stdout",
     "output_type": "stream",
     "text": [
      "['Адамар', 'Архип']\n"
     ]
    }
   ],
   "source": [
    "names = [\"Христофор\", \"Адамар\", \"Тея\", \"Стефания\", \"Архип\"]\n",
    "names_start_a = []\n",
    "for name in names:\n",
    "    if name.startswith(\"А\"):\n",
    "        names_start_a.append(name)\n",
    "print(names_start_a)"
   ]
  },
  {
   "cell_type": "code",
   "execution_count": 17,
   "metadata": {},
   "outputs": [
    {
     "name": "stdout",
     "output_type": "stream",
     "text": [
      "['Адамар', 'Архип']\n"
     ]
    }
   ],
   "source": [
    "names = [\"Христофор\", \"Адамар\", \"Тея\", \"Стефания\", \"Архип\"]\n",
    "names_start_a = [name for name in names if name.startswith(\"А\")]\n",
    "print(names_start_a)"
   ]
  },
  {
   "cell_type": "markdown",
   "metadata": {},
   "source": [
    "5. filter вместо цикла или comprehensions"
   ]
  },
  {
   "cell_type": "code",
   "execution_count": 18,
   "metadata": {},
   "outputs": [
    {
     "name": "stdout",
     "output_type": "stream",
     "text": [
      "<filter object at 0x000002005859DA80>\n"
     ]
    }
   ],
   "source": [
    "names = [\"Христофор\", \"Адамар\", \"Тея\", \"Стефания\", \"Архип\"]\n",
    "names_start_a = filter(lambda name: name.startswith(\"А\"), names) #funkciya filtr vozvrashyayet iterator\n",
    "print(names_start_a)"
   ]
  },
  {
   "cell_type": "code",
   "execution_count": 20,
   "metadata": {},
   "outputs": [
    {
     "name": "stdout",
     "output_type": "stream",
     "text": [
      "('Адамар', 'Архип')\n"
     ]
    }
   ],
   "source": [
    "names = [\"Христофор\", \"Адамар\", \"Тея\", \"Стефания\", \"Архип\"]\n",
    "names_start_a = filter(lambda name: name.startswith(\"А\"), names)\n",
    "print(tuple(names_start_a)) #kortej sozdaetsya bistree i malo vesit no ego nelzy izmenyat"
   ]
  },
  {
   "cell_type": "markdown",
   "metadata": {},
   "source": [
    "6. Быстрое копирование списка"
   ]
  },
  {
   "cell_type": "code",
   "execution_count": 21,
   "metadata": {},
   "outputs": [
    {
     "name": "stdout",
     "output_type": "stream",
     "text": [
      "[1, 2, 3, 4]\n",
      "[1, 2, 3, 4]\n"
     ]
    }
   ],
   "source": [
    "numbers = [1, 2, 3]\n",
    "another_numbers = numbers\n",
    "another_numbers.append(4)\n",
    "print(numbers)\n",
    "print(another_numbers)"
   ]
  },
  {
   "cell_type": "code",
   "execution_count": 22,
   "metadata": {},
   "outputs": [
    {
     "name": "stdout",
     "output_type": "stream",
     "text": [
      "[1, 2, 3]\n",
      "[1, 2, 3, 4]\n"
     ]
    }
   ],
   "source": [
    "numbers = [1, 2, 3]\n",
    "another_numbers = numbers[:]\n",
    "another_numbers.append(4)\n",
    "print(numbers)\n",
    "print(another_numbers)"
   ]
  },
  {
   "cell_type": "markdown",
   "metadata": {},
   "source": [
    "7. Обратить список"
   ]
  },
  {
   "cell_type": "code",
   "execution_count": 25,
   "metadata": {},
   "outputs": [
    {
     "name": "stdout",
     "output_type": "stream",
     "text": [
      "[3, 2, 1]\n",
      "[1, 2, 3]\n"
     ]
    }
   ],
   "source": [
    "numbers = [1, 2, 3]\n",
    "another_numbers = numbers[:]\n",
    "print(numbers[::-1])\n",
    "print(another_numbers)"
   ]
  },
  {
   "cell_type": "markdown",
   "metadata": {},
   "source": [
    "8. in вместо if"
   ]
  },
  {
   "cell_type": "code",
   "execution_count": 43,
   "metadata": {},
   "outputs": [],
   "source": [
    "name = \"Василий\"\n",
    "if name == \"Флексей\" or name == \"Пётр\" or name == \"Христофор\":\n",
    "    print(name)"
   ]
  },
  {
   "cell_type": "code",
   "execution_count": 42,
   "metadata": {},
   "outputs": [],
   "source": [
    "name = \"Василий\"\n",
    "if name in (\"Флексей\", \"Пётр\", \"Христофор\"):#sozdaetsya kortej\n",
    "    print(name)"
   ]
  },
  {
   "cell_type": "markdown",
   "metadata": {},
   "source": [
    "9. all вместо сложного if"
   ]
  },
  {
   "cell_type": "code",
   "execution_count": 44,
   "metadata": {},
   "outputs": [
    {
     "name": "stdout",
     "output_type": "stream",
     "text": [
      "All True\n"
     ]
    }
   ],
   "source": [
    "a =b = c = d = e = True\n",
    "if a and b and c and d and e:\n",
    "    print(\"All True\")"
   ]
  },
  {
   "cell_type": "code",
   "execution_count": 45,
   "metadata": {},
   "outputs": [
    {
     "name": "stdout",
     "output_type": "stream",
     "text": [
      "All True\n"
     ]
    }
   ],
   "source": [
    "a =b = c = d = e = True\n",
    "if all((a, b, c, d, e)):#sozdaetsya kortej\n",
    "    print(\"All True\")"
   ]
  },
  {
   "cell_type": "markdown",
   "metadata": {},
   "source": [
    "10. any вместо сложного if"
   ]
  },
  {
   "cell_type": "code",
   "execution_count": 46,
   "metadata": {},
   "outputs": [
    {
     "name": "stdout",
     "output_type": "stream",
     "text": [
      "Any True\n"
     ]
    }
   ],
   "source": [
    "a =b = c = d = e = True\n",
    "if any((a, b, c, d, e)):#sozdaetsya kortej\n",
    "    print(\"Any True\")"
   ]
  },
  {
   "cell_type": "markdown",
   "metadata": {},
   "source": [
    "11. Тернарный оператор вместо многострочного кода"
   ]
  },
  {
   "cell_type": "code",
   "execution_count": 50,
   "metadata": {},
   "outputs": [
    {
     "name": "stdout",
     "output_type": "stream",
     "text": [
      "NO\n"
     ]
    }
   ],
   "source": [
    "#b = True\n",
    "b = False\n",
    "print(\"YES\") if b else print(\"NO\")"
   ]
  },
  {
   "cell_type": "markdown",
   "metadata": {},
   "source": [
    "12. Конфигурирование"
   ]
  },
  {
   "cell_type": "code",
   "execution_count": 49,
   "metadata": {},
   "outputs": [],
   "source": [
    "class User:\n",
    "    def __init__(self, group: str) -> None:\n",
    "        self.group = group\n",
    "\n",
    "process_admin_request(user, request):\n",
    "user = User(\"admin\")\n",
    "\n",
    "if user.group == \"admin\":\n",
    "    process_admin_request(user, request)\n",
    "elif user.group == \"manager\":\n",
    "    process_manager_request(user, request)\n",
    "elif user.group == \"client\":\n",
    "    process_client_request(user, request)"
   ]
  }
 ],
 "metadata": {
  "kernelspec": {
   "display_name": "Python 3.10.2 64-bit",
   "language": "python",
   "name": "python3"
  },
  "language_info": {
   "codemirror_mode": {
    "name": "ipython",
    "version": 3
   },
   "file_extension": ".py",
   "mimetype": "text/x-python",
   "name": "python",
   "nbconvert_exporter": "python",
   "pygments_lexer": "ipython3",
   "version": "3.10.2"
  },
  "orig_nbformat": 4,
  "vscode": {
   "interpreter": {
    "hash": "20595a541c038e427dfe9644808726240a24d404544d897c2d4bc64fd7b070e7"
   }
  }
 },
 "nbformat": 4,
 "nbformat_minor": 2
}
