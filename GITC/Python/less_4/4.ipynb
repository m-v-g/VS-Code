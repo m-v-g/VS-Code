{
 "cells": [
  {
   "cell_type": "code",
   "execution_count": 2,
   "metadata": {},
   "outputs": [
    {
     "name": "stdout",
     "output_type": "stream",
     "text": [
      "no\n"
     ]
    }
   ],
   "source": [
    "def foo(x):\n",
    "    myList = [\"yes\"]\n",
    "    for i in range(1, x + 1):\n",
    "        if i % 2 == 0:\n",
    "            myList.append(\"no\")\n",
    "        else:\n",
    "            myList.append(\"yes\")\n",
    "    return myList.pop()\n",
    "\n",
    "print(foo(4))\n",
    "        "
   ]
  },
  {
   "cell_type": "code",
   "execution_count": 6,
   "metadata": {},
   "outputs": [
    {
     "name": "stdout",
     "output_type": "stream",
     "text": [
      "[3.0, 3.0, 3.0]\n"
     ]
    }
   ],
   "source": [
    "\n",
    "def foo(myList):\n",
    "    min = myList[0]\n",
    "    minInd = 0\n",
    "    for i in range(1, len(myList)):\n",
    "        if myList[i] < min:\n",
    "            min = myList[i]\n",
    "            minInd = i\n",
    "\n",
    "    for i in range(0, len(myList)):\n",
    "        if i != minInd:\n",
    "            temp = myList[i] * 0.25\n",
    "            myList[minInd] += temp\n",
    "            myList[i] *= 0.75\n",
    "\n",
    "    return myList\n",
    "\n",
    "#print(foo([16, 10, 8]))\n",
    "print(foo([4, 1, 4]))"
   ]
  },
  {
   "cell_type": "code",
   "execution_count": 7,
   "metadata": {},
   "outputs": [
    {
     "data": {
      "text/plain": [
       "'Dsfss'"
      ]
     },
     "execution_count": 7,
     "metadata": {},
     "output_type": "execute_result"
    }
   ],
   "source": [
    "myString = \"dsfss\"\n",
    "myString.capitalize()\n",
    "print(myString)"
   ]
  }
 ],
 "metadata": {
  "kernelspec": {
   "display_name": "Python 3.10.2 64-bit",
   "language": "python",
   "name": "python3"
  },
  "language_info": {
   "codemirror_mode": {
    "name": "ipython",
    "version": 3
   },
   "file_extension": ".py",
   "mimetype": "text/x-python",
   "name": "python",
   "nbconvert_exporter": "python",
   "pygments_lexer": "ipython3",
   "version": "3.10.2"
  },
  "orig_nbformat": 4,
  "vscode": {
   "interpreter": {
    "hash": "20595a541c038e427dfe9644808726240a24d404544d897c2d4bc64fd7b070e7"
   }
  }
 },
 "nbformat": 4,
 "nbformat_minor": 2
}
