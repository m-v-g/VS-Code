{
 "cells": [
  {
   "cell_type": "code",
   "execution_count": 1,
   "metadata": {},
   "outputs": [
    {
     "ename": "TypeError",
     "evalue": "unsupported operand type(s) for ** or pow(): 'str' and 'str'",
     "output_type": "error",
     "traceback": [
      "\u001b[1;31m---------------------------------------------------------------------------\u001b[0m",
      "\u001b[1;31mTypeError\u001b[0m                                 Traceback (most recent call last)",
      "Cell \u001b[1;32mIn [1], line 6\u001b[0m\n\u001b[0;32m      4\u001b[0m x \u001b[38;5;241m=\u001b[39m \u001b[38;5;28minput\u001b[39m(\u001b[38;5;124m\"\u001b[39m\u001b[38;5;124mtype the x \u001b[39m\u001b[38;5;124m\"\u001b[39m)\n\u001b[0;32m      5\u001b[0m n \u001b[38;5;241m=\u001b[39m \u001b[38;5;28minput\u001b[39m(\u001b[38;5;124m\"\u001b[39m\u001b[38;5;124mtype the n \u001b[39m\u001b[38;5;124m\"\u001b[39m)\n\u001b[1;32m----> 6\u001b[0m \u001b[38;5;28mprint\u001b[39m(foo(x, n))\n",
      "Cell \u001b[1;32mIn [1], line 3\u001b[0m, in \u001b[0;36mfoo\u001b[1;34m(x, n)\u001b[0m\n\u001b[0;32m      1\u001b[0m \u001b[38;5;28;01mdef\u001b[39;00m \u001b[38;5;21mfoo\u001b[39m(x, n):\n\u001b[0;32m      2\u001b[0m     \u001b[38;5;124;03m'''jhgjhghjh'''\u001b[39;00m\n\u001b[1;32m----> 3\u001b[0m     \u001b[38;5;28;01mreturn\u001b[39;00m \u001b[43mx\u001b[49m\u001b[43m \u001b[49m\u001b[38;5;241;43m*\u001b[39;49m\u001b[38;5;241;43m*\u001b[39;49m\u001b[43m \u001b[49m\u001b[43mn\u001b[49m\n",
      "\u001b[1;31mTypeError\u001b[0m: unsupported operand type(s) for ** or pow(): 'str' and 'str'"
     ]
    }
   ],
   "source": [
    "def foo(x, n):\n",
    "    '''jhgjhghjh'''\n",
    "    return x ** n\n",
    "x = input(\"type the x \")\n",
    "n = input(\"type the n \")\n",
    "print(foo(x, n))"
   ]
  },
  {
   "cell_type": "code",
   "execution_count": null,
   "metadata": {},
   "outputs": [],
   "source": [
    "def foo(x, n):\n",
    "    '''jhgjhghjh'''\n",
    "    if isinstance(x, int) and isinstance(n, int):\n",
    "        return x / n\n",
    "    elif isinstance(x, str) and isinstance(n, str):\n",
    "        return x + n\n",
    "    else:\n",
    "        return x // n\n"
   ]
  },
  {
   "cell_type": "code",
   "execution_count": null,
   "metadata": {},
   "outputs": [],
   "source": [
    "def foo(x, y, n):\n",
    "    '''jhgjhghjh'''\n",
    "    if isinstance(x, int) and isinstance(y, int) and isinstance(n, int):\n",
    "        return (x%y) ** n\n",
    "    return \"NO\""
   ]
  },
  {
   "cell_type": "code",
   "execution_count": null,
   "metadata": {},
   "outputs": [],
   "source": [
    "def foo(x):\n",
    "    '''jhgjhghjh'''\n",
    "    if x.isalpha:\n",
    "        return \"True\"\n",
    "    else:\n",
    "        return \"False\""
   ]
  },
  {
   "cell_type": "code",
   "execution_count": 4,
   "metadata": {},
   "outputs": [
    {
     "data": {
      "text/plain": [
       "'abba'"
      ]
     },
     "execution_count": 4,
     "metadata": {},
     "output_type": "execute_result"
    }
   ],
   "source": [
    "def foo(x):\n",
    "    '''jhgjhghjh'''\n",
    "    a = [\"a\", \"e\", \"i\", \"o\", \"u\"]\n",
    "    if x.isalpha:\n",
    "        for i in x:\n",
    "            if i == a:\n",
    "               x =  x.replace(i.capitalize())\n",
    "        return x\n",
    "    else:\n",
    "        return \"False\"\n",
    "x = input()\n",
    "foo(x)"
   ]
  },
  {
   "cell_type": "code",
   "execution_count": null,
   "metadata": {},
   "outputs": [],
   "source": [
    "def foo(x, y):\n",
    "    '''jhgjhghjh'''\n",
    "    if x.find(y) != -1:\n",
    "        return \"True\"\n",
    "    else:\n",
    "        return \"False\""
   ]
  },
  {
   "cell_type": "code",
   "execution_count": 11,
   "metadata": {},
   "outputs": [
    {
     "name": "stdout",
     "output_type": "stream",
     "text": [
      "['new', 1, 5, 3, 4]\n"
     ]
    }
   ],
   "source": [
    "def foo(*args):\n",
    "    myList = [\"new\"]\n",
    "    for iterator in args:\n",
    "        myList.append(iterator)\n",
    "    return myList\n",
    "print(foo(1,5,3,4))"
   ]
  },
  {
   "cell_type": "code",
   "execution_count": 14,
   "metadata": {},
   "outputs": [
    {
     "name": "stdout",
     "output_type": "stream",
     "text": [
      "[4, 3, 2, 1, 'new']\n"
     ]
    }
   ],
   "source": [
    "def foo(*args):\n",
    "    myList = [\"new\"]\n",
    "    for iterator in args:\n",
    "        myList.append(iterator)\n",
    "    myList.reverse()\n",
    "    return myList\n",
    "print(foo(1,2,3,4))"
   ]
  },
  {
   "cell_type": "code",
   "execution_count": 16,
   "metadata": {},
   "outputs": [
    {
     "name": "stdout",
     "output_type": "stream",
     "text": [
      "24\n"
     ]
    }
   ],
   "source": [
    "def foo(x):\n",
    "    y = 1\n",
    "    for iterator in range(1,x+1):\n",
    "        y *= iterator\n",
    "    return y\n",
    "print(foo(5))"
   ]
  }
 ],
 "metadata": {
  "kernelspec": {
   "display_name": "Python 3.10.2 64-bit",
   "language": "python",
   "name": "python3"
  },
  "language_info": {
   "codemirror_mode": {
    "name": "ipython",
    "version": 3
   },
   "file_extension": ".py",
   "mimetype": "text/x-python",
   "name": "python",
   "nbconvert_exporter": "python",
   "pygments_lexer": "ipython3",
   "version": "3.10.2"
  },
  "orig_nbformat": 4,
  "vscode": {
   "interpreter": {
    "hash": "20595a541c038e427dfe9644808726240a24d404544d897c2d4bc64fd7b070e7"
   }
  }
 },
 "nbformat": 4,
 "nbformat_minor": 2
}
