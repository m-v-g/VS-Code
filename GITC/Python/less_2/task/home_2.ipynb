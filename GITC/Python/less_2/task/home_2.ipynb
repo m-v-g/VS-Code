{
 "cells": [
  {
   "cell_type": "markdown",
   "metadata": {},
   "source": [
    "Suffix Sums"
   ]
  },
  {
   "cell_type": "code",
   "execution_count": 1,
   "metadata": {},
   "outputs": [
    {
     "name": "stdout",
     "output_type": "stream",
     "text": [
      "3.0\n",
      "5.5\n",
      "7.0\n"
     ]
    }
   ],
   "source": [
    "listA = list(map(float,input('type the sequance ').split()))\n",
    "listB = [0.0]\n",
    "temp = 0.0\n",
    "for iterator in listA[::-1]:\n",
    "    temp = temp + iterator\n",
    "    #print(temp)\n",
    "    listB.append(temp)\n",
    "listB.remove(0)\n",
    "for iterator in listB:\n",
    "    print(iterator)"
   ]
  },
  {
   "cell_type": "markdown",
   "metadata": {},
   "source": [
    "Largest Number"
   ]
  },
  {
   "cell_type": "code",
   "execution_count": 2,
   "metadata": {},
   "outputs": [
    {
     "name": "stdout",
     "output_type": "stream",
     "text": [
      "YES\n"
     ]
    }
   ],
   "source": [
    "numA = input(\"enter the number \") #mutqagrenq tiv@\n",
    "listA = list(map(int,numA)) #sarkenq interi list\n",
    "listA.sort(reverse = True) #mer list@ sortavorenq @st nvazman\n",
    "#print(listA)\n",
    "numB = str(listA[0]) #listi araji element@ qcenq stringi mej\n",
    "for i in listA[1::1]: \n",
    "    numB += str(i) #hertov mnacacner@ dabavka enenq\n",
    "#print(numB)\n",
    "if numB > numA:  #hamematenq 2 stringner@ chnayac krnainq inti bereinq nor hamemateinq\n",
    "    print(\"YES\") #irevi interov aveli arag kexni\n",
    "else:\n",
    "    print(\"NO\")"
   ]
  },
  {
   "cell_type": "markdown",
   "metadata": {},
   "source": [
    "Cyclic shift"
   ]
  },
  {
   "cell_type": "code",
   "execution_count": null,
   "metadata": {},
   "outputs": [],
   "source": []
  }
 ],
 "metadata": {
  "kernelspec": {
   "display_name": "Python 3.10.2 64-bit",
   "language": "python",
   "name": "python3"
  },
  "language_info": {
   "codemirror_mode": {
    "name": "ipython",
    "version": 3
   },
   "file_extension": ".py",
   "mimetype": "text/x-python",
   "name": "python",
   "nbconvert_exporter": "python",
   "pygments_lexer": "ipython3",
   "version": "3.10.2"
  },
  "orig_nbformat": 4,
  "vscode": {
   "interpreter": {
    "hash": "20595a541c038e427dfe9644808726240a24d404544d897c2d4bc64fd7b070e7"
   }
  }
 },
 "nbformat": 4,
 "nbformat_minor": 2
}
