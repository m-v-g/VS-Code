{
 "cells": [
  {
   "cell_type": "markdown",
   "metadata": {},
   "source": [
    "task 1 100 years"
   ]
  },
  {
   "cell_type": "code",
   "execution_count": 1,
   "metadata": {},
   "outputs": [
    {
     "name": "stdout",
     "output_type": "stream",
     "text": [
      "In \"2067\" you will be 100 years old\n"
     ]
    }
   ],
   "source": [
    "age = 2122 - int(input(\"Please type your age \"))\n",
    "print('In \"' + str(age) +  '\" you will be 100 years old')"
   ]
  },
  {
   "cell_type": "markdown",
   "metadata": {},
   "source": [
    "task 2 Arithmetic Progression"
   ]
  },
  {
   "cell_type": "code",
   "execution_count": 3,
   "metadata": {},
   "outputs": [
    {
     "name": "stdout",
     "output_type": "stream",
     "text": [
      "3 th member of the sequence 6\n"
     ]
    }
   ],
   "source": [
    "a = int(input(\"type A \"))\n",
    "b = int(input(\"type B \"))\n",
    "n = int(input(\"type N \"))\n",
    "a = b - a\n",
    "m = 2\n",
    "while m < n:\n",
    "    b += a\n",
    "    m += 1\n",
    "print(str(n) + \" th member of the sequence \" + str(b))"
   ]
  },
  {
   "cell_type": "markdown",
   "metadata": {},
   "source": [
    "task 3 Speed Limit"
   ]
  },
  {
   "cell_type": "code",
   "execution_count": 2,
   "metadata": {},
   "outputs": [
    {
     "name": "stdout",
     "output_type": "stream",
     "text": [
      "Amount of the fine: 20000 Points left: 7.0\n"
     ]
    }
   ],
   "source": [
    "point = 9.0\n",
    "speed = int(input(\"Enter the speed \"))\n",
    "if speed <= 70:\n",
    "    print(\"OK\")\n",
    "elif speed > 70 and speed <= 80:\n",
    "    print(\"Amount of the fine: \" + str((speed - 70) * 1000) + \" Points left: \" + str(point))\n",
    "elif speed > 80 and speed <= 100:\n",
    "    print(\"Amount of the fine: 20000 Points left: \" + str(point - 2))\n",
    "elif speed > 100 and speed <= 120:\n",
    "    print(\"Amount of the fine: 25000 Points left: \" + str(point - 3))\n",
    "elif speed > 120 and speed <= 150:\n",
    "    print(\"Amount of the fine: 29000 Points left: \" + str(point - 4))\n",
    "else:\n",
    "    print(\"Amount of the fine: 200000 And license suspended for 1 year\")"
   ]
  },
  {
   "cell_type": "markdown",
   "metadata": {},
   "source": [
    "task 4 Even numbers"
   ]
  },
  {
   "cell_type": "code",
   "execution_count": 5,
   "metadata": {},
   "outputs": [
    {
     "ename": "TypeError",
     "evalue": "input() takes 0 positional arguments but 1 was given",
     "output_type": "error",
     "traceback": [
      "\u001b[1;31m---------------------------------------------------------------------------\u001b[0m",
      "\u001b[1;31mTypeError\u001b[0m                                 Traceback (most recent call last)",
      "Cell \u001b[1;32mIn [5], line 9\u001b[0m\n\u001b[0;32m      7\u001b[0m         \u001b[38;5;28;01mreturn\u001b[39;00m \u001b[38;5;28;01mFalse\u001b[39;00m\n\u001b[0;32m      8\u001b[0m \u001b[38;5;66;03m#main function\u001b[39;00m\n\u001b[1;32m----> 9\u001b[0m \u001b[38;5;28minput\u001b[39m()\n",
      "Cell \u001b[1;32mIn [5], line 2\u001b[0m, in \u001b[0;36minput\u001b[1;34m()\u001b[0m\n\u001b[0;32m      1\u001b[0m \u001b[38;5;28;01mdef\u001b[39;00m \u001b[38;5;21minput\u001b[39m():\n\u001b[1;32m----> 2\u001b[0m     a \u001b[38;5;241m=\u001b[39m \u001b[38;5;28mint\u001b[39m(\u001b[38;5;28;43minput\u001b[39;49m\u001b[43m(\u001b[49m\u001b[38;5;124;43m\"\u001b[39;49m\u001b[38;5;124;43mtype A \u001b[39;49m\u001b[38;5;124;43m\"\u001b[39;49m\u001b[43m)\u001b[49m)\n\u001b[0;32m      3\u001b[0m     b \u001b[38;5;241m=\u001b[39m \u001b[38;5;28mint\u001b[39m(\u001b[38;5;28minput\u001b[39m(\u001b[38;5;124m\"\u001b[39m\u001b[38;5;124mtype B \u001b[39m\u001b[38;5;124m\"\u001b[39m))\n\u001b[0;32m      4\u001b[0m     \u001b[38;5;28;01mif\u001b[39;00m a \u001b[38;5;241m<\u001b[39m b:\n",
      "\u001b[1;31mTypeError\u001b[0m: input() takes 0 positional arguments but 1 was given"
     ]
    }
   ],
   "source": [
    "def input():\n",
    "    a = int(input(\"type A \"))\n",
    "    b = int(input(\"type B \"))\n",
    "    if a < b:\n",
    "        return True\n",
    "    else:\n",
    "        return False\n",
    "#main function\n",
    "input()\n",
    "#print(\"dsgsf \" + str(s))"
   ]
  },
  {
   "cell_type": "markdown",
   "metadata": {},
   "source": [
    "task 4.1 Even numbers"
   ]
  },
  {
   "cell_type": "code",
   "execution_count": 6,
   "metadata": {},
   "outputs": [
    {
     "ename": "TypeError",
     "evalue": "input() takes 0 positional arguments but 1 was given",
     "output_type": "error",
     "traceback": [
      "\u001b[1;31m---------------------------------------------------------------------------\u001b[0m",
      "\u001b[1;31mTypeError\u001b[0m                                 Traceback (most recent call last)",
      "Cell \u001b[1;32mIn [6], line 3\u001b[0m\n\u001b[0;32m      1\u001b[0m t \u001b[38;5;241m=\u001b[39m \u001b[38;5;28;01mTrue\u001b[39;00m\n\u001b[0;32m      2\u001b[0m \u001b[38;5;28;01mwhile\u001b[39;00m t:\n\u001b[1;32m----> 3\u001b[0m     a \u001b[38;5;241m=\u001b[39m \u001b[38;5;28mint\u001b[39m(\u001b[38;5;28minput\u001b[39m(\u001b[38;5;124m\"\u001b[39m\u001b[38;5;124mtype A \u001b[39m\u001b[38;5;124m\"\u001b[39m))\n\u001b[0;32m      4\u001b[0m     b \u001b[38;5;241m=\u001b[39m \u001b[38;5;28mint\u001b[39m(\u001b[38;5;28minput\u001b[39m(\u001b[38;5;124m\"\u001b[39m\u001b[38;5;124mtype B \u001b[39m\u001b[38;5;124m\"\u001b[39m))\n\u001b[0;32m      5\u001b[0m     \u001b[38;5;28;01mif\u001b[39;00m a \u001b[38;5;241m<\u001b[39m b:\n",
      "\u001b[1;31mTypeError\u001b[0m: input() takes 0 positional arguments but 1 was given"
     ]
    }
   ],
   "source": [
    "t = True\n",
    "while t:\n",
    "    a = int(input(\"type A \"))\n",
    "    b = int(input(\"type B \"))\n",
    "    if a < b:\n",
    "        t = False\n",
    "while a <= b:\n",
    "    if a % 2 == 0:\n",
    "        print(a)\n",
    "    a += 1"
   ]
  }
 ],
 "metadata": {
  "kernelspec": {
   "display_name": "Python 3.10.2 64-bit",
   "language": "python",
   "name": "python3"
  },
  "language_info": {
   "codemirror_mode": {
    "name": "ipython",
    "version": 3
   },
   "file_extension": ".py",
   "mimetype": "text/x-python",
   "name": "python",
   "nbconvert_exporter": "python",
   "pygments_lexer": "ipython3",
   "version": "3.10.2"
  },
  "orig_nbformat": 4,
  "vscode": {
   "interpreter": {
    "hash": "20595a541c038e427dfe9644808726240a24d404544d897c2d4bc64fd7b070e7"
   }
  }
 },
 "nbformat": 4,
 "nbformat_minor": 2
}
