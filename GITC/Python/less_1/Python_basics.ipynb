{
  "cells": [
    {
      "cell_type": "markdown",
      "metadata": {
        "id": "yvxOOKjGiCc-"
      },
      "source": [
        "Integers and Floats ( + operations )"
      ]
    },
    {
      "cell_type": "code",
      "execution_count": 2,
      "metadata": {
        "id": "gdk7BOgyiAWA"
      },
      "outputs": [],
      "source": [
        "integer_num = 12\n",
        "float_num = 7.8"
      ]
    },
    {
      "cell_type": "markdown",
      "metadata": {
        "id": "jRYxLTzkivnX"
      },
      "source": [
        "Sum"
      ]
    },
    {
      "cell_type": "code",
      "execution_count": 3,
      "metadata": {
        "colab": {
          "base_uri": "https://localhost:8080/"
        },
        "id": "gEpzSZdjiAYI",
        "outputId": "77371a14-670c-4277-d6ee-17d5e0c72953"
      },
      "outputs": [
        {
          "data": {
            "text/plain": [
              "24"
            ]
          },
          "execution_count": 3,
          "metadata": {},
          "output_type": "execute_result"
        }
      ],
      "source": [
        "integer_num + integer_num # sum of two integers is an integer"
      ]
    },
    {
      "cell_type": "code",
      "execution_count": 4,
      "metadata": {
        "colab": {
          "base_uri": "https://localhost:8080/"
        },
        "id": "EOAScvrXiAaU",
        "outputId": "1a10c768-66bb-42b5-86e8-e705a5a55bb1"
      },
      "outputs": [
        {
          "data": {
            "text/plain": [
              "15.6"
            ]
          },
          "execution_count": 4,
          "metadata": {},
          "output_type": "execute_result"
        }
      ],
      "source": [
        "float_num + float_num # sum of two floats is a float"
      ]
    },
    {
      "cell_type": "code",
      "execution_count": 28,
      "metadata": {
        "colab": {
          "base_uri": "https://localhost:8080/"
        },
        "id": "YW8yUjrNrct8",
        "outputId": "524c09b7-a57a-49fa-c67e-c46db432cd34"
      },
      "outputs": [
        {
          "data": {
            "text/plain": [
              "19.8"
            ]
          },
          "execution_count": 28,
          "metadata": {},
          "output_type": "execute_result"
        }
      ],
      "source": [
        "float_num + integer_num"
      ]
    },
    {
      "cell_type": "code",
      "execution_count": 29,
      "metadata": {
        "colab": {
          "base_uri": "https://localhost:8080/"
        },
        "id": "sgcZ-T9ZmHty",
        "outputId": "5e1dab27-0174-4e2c-b059-e245e7c438d6"
      },
      "outputs": [
        {
          "data": {
            "text/plain": [
              "12"
            ]
          },
          "execution_count": 29,
          "metadata": {},
          "output_type": "execute_result"
        }
      ],
      "source": [
        "round(12.3)"
      ]
    },
    {
      "cell_type": "code",
      "execution_count": 30,
      "metadata": {
        "colab": {
          "base_uri": "https://localhost:8080/"
        },
        "id": "Z06ovmVGmMqX",
        "outputId": "3bbcc704-8214-4461-efcc-ea5a65e9f3e7"
      },
      "outputs": [
        {
          "data": {
            "text/plain": [
              "12"
            ]
          },
          "execution_count": 30,
          "metadata": {},
          "output_type": "execute_result"
        }
      ],
      "source": [
        "int(12.78)"
      ]
    },
    {
      "cell_type": "code",
      "execution_count": 31,
      "metadata": {
        "colab": {
          "base_uri": "https://localhost:8080/"
        },
        "id": "RzCQ0wTomRiy",
        "outputId": "387ffb3a-27f4-4227-eb8c-65523cf51f75"
      },
      "outputs": [
        {
          "data": {
            "text/plain": [
              "12.0"
            ]
          },
          "execution_count": 31,
          "metadata": {},
          "output_type": "execute_result"
        }
      ],
      "source": [
        "float(12)"
      ]
    },
    {
      "cell_type": "code",
      "execution_count": 32,
      "metadata": {
        "colab": {
          "base_uri": "https://localhost:8080/"
        },
        "id": "IpZPft7dmWQg",
        "outputId": "06eb95b1-651a-4b6b-9a47-14cecf9a59cc"
      },
      "outputs": [
        {
          "data": {
            "text/plain": [
              "float"
            ]
          },
          "execution_count": 32,
          "metadata": {},
          "output_type": "execute_result"
        }
      ],
      "source": [
        "type(12.7)"
      ]
    },
    {
      "cell_type": "code",
      "execution_count": 33,
      "metadata": {
        "colab": {
          "base_uri": "https://localhost:8080/"
        },
        "id": "xTGC7JUsmWXi",
        "outputId": "203d77af-acee-491a-b7d7-251fa0b5cfe1"
      },
      "outputs": [
        {
          "data": {
            "text/plain": [
              "int"
            ]
          },
          "execution_count": 33,
          "metadata": {},
          "output_type": "execute_result"
        }
      ],
      "source": [
        "type(55)"
      ]
    },
    {
      "cell_type": "code",
      "execution_count": 34,
      "metadata": {
        "colab": {
          "base_uri": "https://localhost:8080/"
        },
        "id": "-JzzVoPQiAcx",
        "outputId": "88017848-d7e1-4ef4-88be-ae5ec6651e23"
      },
      "outputs": [
        {
          "data": {
            "text/plain": [
              "25.0"
            ]
          },
          "execution_count": 34,
          "metadata": {},
          "output_type": "execute_result"
        }
      ],
      "source": [
        "12.5 + 12.5"
      ]
    },
    {
      "cell_type": "markdown",
      "metadata": {
        "id": "ATXf5LH-i1Qe"
      },
      "source": [
        "Substraction"
      ]
    },
    {
      "cell_type": "code",
      "execution_count": 35,
      "metadata": {
        "colab": {
          "base_uri": "https://localhost:8080/"
        },
        "id": "is4fRLw3inTt",
        "outputId": "6b17cbe0-a19f-4033-e742-8fee546c7ad4"
      },
      "outputs": [
        {
          "data": {
            "text/plain": [
              "6"
            ]
          },
          "execution_count": 35,
          "metadata": {},
          "output_type": "execute_result"
        }
      ],
      "source": [
        "12 - 6"
      ]
    },
    {
      "cell_type": "code",
      "execution_count": 36,
      "metadata": {
        "colab": {
          "base_uri": "https://localhost:8080/"
        },
        "id": "QJWMITGOi4gr",
        "outputId": "13e68360-da41-4877-80af-5a823036abfe"
      },
      "outputs": [
        {
          "data": {
            "text/plain": [
              "6.0"
            ]
          },
          "execution_count": 36,
          "metadata": {},
          "output_type": "execute_result"
        }
      ],
      "source": [
        "6.7 - 0.7"
      ]
    },
    {
      "cell_type": "code",
      "execution_count": 37,
      "metadata": {
        "colab": {
          "base_uri": "https://localhost:8080/"
        },
        "id": "wiJ3_6f2i6sQ",
        "outputId": "e50992bc-ed86-4ada-a50a-5d555193641c"
      },
      "outputs": [
        {
          "data": {
            "text/plain": [
              "3.2"
            ]
          },
          "execution_count": 37,
          "metadata": {},
          "output_type": "execute_result"
        }
      ],
      "source": [
        "4.2 - 1"
      ]
    },
    {
      "cell_type": "code",
      "execution_count": 38,
      "metadata": {
        "colab": {
          "base_uri": "https://localhost:8080/"
        },
        "id": "lpLvs9-_i9vR",
        "outputId": "4628b846-979b-4c06-f9b2-a80914a75a93"
      },
      "outputs": [
        {
          "data": {
            "text/plain": [
              "-66"
            ]
          },
          "execution_count": 38,
          "metadata": {},
          "output_type": "execute_result"
        }
      ],
      "source": [
        "34 - 100"
      ]
    },
    {
      "cell_type": "markdown",
      "metadata": {
        "id": "BZCChiCjjElV"
      },
      "source": [
        "Multiplication"
      ]
    },
    {
      "cell_type": "code",
      "execution_count": 39,
      "metadata": {
        "colab": {
          "base_uri": "https://localhost:8080/"
        },
        "id": "XeRhPYFSjCTV",
        "outputId": "980ea162-a9a0-4d30-df3b-3b85f2971555"
      },
      "outputs": [
        {
          "data": {
            "text/plain": [
              "50"
            ]
          },
          "execution_count": 39,
          "metadata": {},
          "output_type": "execute_result"
        }
      ],
      "source": [
        "5 * 10"
      ]
    },
    {
      "cell_type": "code",
      "execution_count": 40,
      "metadata": {
        "colab": {
          "base_uri": "https://localhost:8080/"
        },
        "id": "-mZ7XtHOjI0d",
        "outputId": "6f7908af-e116-4040-ecda-13b21bd6c476"
      },
      "outputs": [
        {
          "data": {
            "text/plain": [
              "9.0"
            ]
          },
          "execution_count": 40,
          "metadata": {},
          "output_type": "execute_result"
        }
      ],
      "source": [
        "4.5 * 2"
      ]
    },
    {
      "cell_type": "code",
      "execution_count": 41,
      "metadata": {
        "colab": {
          "base_uri": "https://localhost:8080/"
        },
        "id": "K2AdFTRwjKmT",
        "outputId": "6ab89ecf-8e0e-462a-adc7-8922bd462d6a"
      },
      "outputs": [
        {
          "data": {
            "text/plain": [
              "4.840000000000001"
            ]
          },
          "execution_count": 41,
          "metadata": {},
          "output_type": "execute_result"
        }
      ],
      "source": [
        "2.2 * 2.2"
      ]
    },
    {
      "cell_type": "code",
      "execution_count": 42,
      "metadata": {
        "colab": {
          "base_uri": "https://localhost:8080/"
        },
        "id": "JZtMxkdvjMY5",
        "outputId": "8ae87a5d-7f08-4729-9075-0799b6e30f5d"
      },
      "outputs": [
        {
          "data": {
            "text/plain": [
              "100"
            ]
          },
          "execution_count": 42,
          "metadata": {},
          "output_type": "execute_result"
        }
      ],
      "source": [
        "10 ** 2 # exponent"
      ]
    },
    {
      "cell_type": "code",
      "execution_count": 43,
      "metadata": {
        "colab": {
          "base_uri": "https://localhost:8080/"
        },
        "id": "FiqcKnThjURc",
        "outputId": "b0599ea7-3c77-4bb9-e77d-274ac3b3df33"
      },
      "outputs": [
        {
          "data": {
            "text/plain": [
              "125"
            ]
          },
          "execution_count": 43,
          "metadata": {},
          "output_type": "execute_result"
        }
      ],
      "source": [
        "5 ** 3"
      ]
    },
    {
      "cell_type": "markdown",
      "metadata": {
        "id": "lx6qyMmvjZGq"
      },
      "source": [
        "Division"
      ]
    },
    {
      "cell_type": "code",
      "execution_count": 44,
      "metadata": {
        "colab": {
          "base_uri": "https://localhost:8080/"
        },
        "id": "iitVaMUljXAl",
        "outputId": "0843829e-8447-4c06-8260-1347ea40c144"
      },
      "outputs": [
        {
          "data": {
            "text/plain": [
              "2.0"
            ]
          },
          "execution_count": 44,
          "metadata": {},
          "output_type": "execute_result"
        }
      ],
      "source": [
        "12 / 6 # the result of a division is a float number"
      ]
    },
    {
      "cell_type": "code",
      "execution_count": 45,
      "metadata": {
        "colab": {
          "base_uri": "https://localhost:8080/"
        },
        "id": "NGm6Lw5rjdY8",
        "outputId": "57a3873f-8027-4d5f-8a73-5e2a5c512e91"
      },
      "outputs": [
        {
          "data": {
            "text/plain": [
              "200.0"
            ]
          },
          "execution_count": 45,
          "metadata": {},
          "output_type": "execute_result"
        }
      ],
      "source": [
        "100 / 0.5"
      ]
    },
    {
      "cell_type": "code",
      "execution_count": 46,
      "metadata": {
        "colab": {
          "base_uri": "https://localhost:8080/"
        },
        "id": "EsV2SOP-jjQj",
        "outputId": "76a6e9e1-b771-458c-a685-49f5aadb73cc"
      },
      "outputs": [
        {
          "data": {
            "text/plain": [
              "3.3333333333333335"
            ]
          },
          "execution_count": 46,
          "metadata": {},
          "output_type": "execute_result"
        }
      ],
      "source": [
        "100 / 30"
      ]
    },
    {
      "cell_type": "code",
      "execution_count": 47,
      "metadata": {
        "colab": {
          "base_uri": "https://localhost:8080/"
        },
        "id": "_lOS9uAFsH7C",
        "outputId": "4e3a9008-2371-48bd-ae98-88cb3e5f7592"
      },
      "outputs": [
        {
          "data": {
            "text/plain": [
              "5.555555555555555"
            ]
          },
          "execution_count": 47,
          "metadata": {},
          "output_type": "execute_result"
        }
      ],
      "source": [
        "100/18"
      ]
    },
    {
      "cell_type": "markdown",
      "metadata": {
        "id": "mHFTCKQj3oYN"
      },
      "source": []
    },
    {
      "cell_type": "code",
      "execution_count": null,
      "metadata": {
        "id": "9ul7VfUr3o8a"
      },
      "outputs": [],
      "source": []
    },
    {
      "cell_type": "code",
      "execution_count": 48,
      "metadata": {
        "colab": {
          "base_uri": "https://localhost:8080/"
        },
        "id": "k1nlEFeYjnI1",
        "outputId": "3d113f5d-4352-4ac6-dd57-e739f3334034"
      },
      "outputs": [
        {
          "data": {
            "text/plain": [
              "5"
            ]
          },
          "execution_count": 48,
          "metadata": {},
          "output_type": "execute_result"
        }
      ],
      "source": [
        "100 // 18"
      ]
    },
    {
      "cell_type": "code",
      "execution_count": 49,
      "metadata": {
        "colab": {
          "base_uri": "https://localhost:8080/"
        },
        "id": "4CNYg22Kjodj",
        "outputId": "e843be75-a0e4-45e7-ad7e-d081c5d07559"
      },
      "outputs": [
        {
          "data": {
            "text/plain": [
              "10"
            ]
          },
          "execution_count": 49,
          "metadata": {},
          "output_type": "execute_result"
        }
      ],
      "source": [
        "100 % 30 # remainder "
      ]
    },
    {
      "cell_type": "markdown",
      "metadata": {
        "id": "fJHNzAEdkH_K"
      },
      "source": [
        "We have already covered the main arithmetic operations! \n",
        "That was quite simple, right? ))"
      ]
    },
    {
      "cell_type": "markdown",
      "metadata": {
        "id": "2dIsLRgzkryk"
      },
      "source": [
        "String type"
      ]
    },
    {
      "cell_type": "code",
      "execution_count": 50,
      "metadata": {
        "id": "ogNUXQUMjv7y"
      },
      "outputs": [],
      "source": [
        "string_variable = 'hello world' \n",
        "\n",
        "a = 'a'\n",
        "a = \"hjh\"\n",
        "\n",
        "#immutable type "
      ]
    },
    {
      "cell_type": "code",
      "execution_count": 51,
      "metadata": {
        "colab": {
          "base_uri": "https://localhost:8080/",
          "height": 35
        },
        "id": "9WZLL6Hsk9rq",
        "outputId": "cc0ad640-d534-4809-ee3c-bb6ba08f9c7d"
      },
      "outputs": [
        {
          "data": {
            "application/vnd.google.colaboratory.intrinsic+json": {
              "type": "string"
            },
            "text/plain": [
              "'h'"
            ]
          },
          "execution_count": 51,
          "metadata": {},
          "output_type": "execute_result"
        }
      ],
      "source": [
        "string_variable[0] #  it has indexing"
      ]
    },
    {
      "cell_type": "code",
      "execution_count": 52,
      "metadata": {
        "colab": {
          "base_uri": "https://localhost:8080/",
          "height": 169
        },
        "id": "ZEN-OGPKlLgY",
        "outputId": "16da1dd8-ae2a-4a3f-eaec-7e7872f70e09"
      },
      "outputs": [
        {
          "ename": "TypeError",
          "evalue": "ignored",
          "output_type": "error",
          "traceback": [
            "\u001b[0;31m---------------------------------------------------------------------------\u001b[0m",
            "\u001b[0;31mTypeError\u001b[0m                                 Traceback (most recent call last)",
            "\u001b[0;32m<ipython-input-52-09d5560b8f95>\u001b[0m in \u001b[0;36m<module>\u001b[0;34m\u001b[0m\n\u001b[0;32m----> 1\u001b[0;31m \u001b[0mstring_variable\u001b[0m\u001b[0;34m[\u001b[0m\u001b[0;36m0\u001b[0m\u001b[0;34m]\u001b[0m \u001b[0;34m=\u001b[0m \u001b[0;34m\"H\"\u001b[0m \u001b[0;31m# we can not change it\u001b[0m\u001b[0;34m\u001b[0m\u001b[0;34m\u001b[0m\u001b[0m\n\u001b[0m",
            "\u001b[0;31mTypeError\u001b[0m: 'str' object does not support item assignment"
          ]
        }
      ],
      "source": [
        "string_variable[0] = \"H\" # we can not change it"
      ]
    },
    {
      "cell_type": "code",
      "execution_count": 55,
      "metadata": {
        "id": "T1MSSzuXlOTc"
      },
      "outputs": [],
      "source": [
        "string_variable = 'Hello world'"
      ]
    },
    {
      "cell_type": "code",
      "execution_count": 56,
      "metadata": {
        "colab": {
          "base_uri": "https://localhost:8080/",
          "height": 35
        },
        "id": "hfu5ywd3lYaN",
        "outputId": "d1409ea9-553a-43de-c4b4-b2be400fecd7"
      },
      "outputs": [
        {
          "data": {
            "application/vnd.google.colaboratory.intrinsic+json": {
              "type": "string"
            },
            "text/plain": [
              "' '"
            ]
          },
          "execution_count": 56,
          "metadata": {},
          "output_type": "execute_result"
        }
      ],
      "source": [
        "string_variable[5] # the space is also taken into count"
      ]
    },
    {
      "cell_type": "code",
      "execution_count": 57,
      "metadata": {
        "colab": {
          "base_uri": "https://localhost:8080/",
          "height": 35
        },
        "id": "4trKfLo3ljez",
        "outputId": "760ba07b-6698-4c81-e07e-bf88c9704785"
      },
      "outputs": [
        {
          "data": {
            "application/vnd.google.colaboratory.intrinsic+json": {
              "type": "string"
            },
            "text/plain": [
              "'Hello worldHello world'"
            ]
          },
          "execution_count": 57,
          "metadata": {},
          "output_type": "execute_result"
        }
      ],
      "source": [
        "string_variable + string_variable #concatenation"
      ]
    },
    {
      "cell_type": "code",
      "execution_count": 58,
      "metadata": {
        "colab": {
          "base_uri": "https://localhost:8080/",
          "height": 35
        },
        "id": "6Tq2W1-Glum4",
        "outputId": "7d649340-8270-4d1b-f7f5-7f0ecc6be094"
      },
      "outputs": [
        {
          "data": {
            "application/vnd.google.colaboratory.intrinsic+json": {
              "type": "string"
            },
            "text/plain": [
              "'Hello worldHello worldHello world'"
            ]
          },
          "execution_count": 58,
          "metadata": {},
          "output_type": "execute_result"
        }
      ],
      "source": [
        "string_variable * 3 # multiplication"
      ]
    },
    {
      "cell_type": "code",
      "execution_count": 180,
      "metadata": {
        "colab": {
          "base_uri": "https://localhost:8080/"
        },
        "id": "zRnyUIHNlz-z",
        "outputId": "e166c281-70db-460d-c56e-e24bcfb48707"
      },
      "outputs": [
        {
          "name": "stdout",
          "output_type": "stream",
          "text": [
            "Hello world\n"
          ]
        }
      ],
      "source": [
        "string_variable = 'hello world'\n",
        "print(string_variable.capitalize())"
      ]
    },
    {
      "cell_type": "code",
      "execution_count": null,
      "metadata": {
        "id": "ynMlF83z5hEY"
      },
      "outputs": [],
      "source": [
        "string_variable = string_variable.capitalize()"
      ]
    },
    {
      "cell_type": "code",
      "execution_count": 177,
      "metadata": {
        "colab": {
          "base_uri": "https://localhost:8080/"
        },
        "id": "eehNkz8Q4yUS",
        "outputId": "6a61232a-3463-4de8-a023-7a6ecd872488"
      },
      "outputs": [
        {
          "data": {
            "text/plain": [
              "False"
            ]
          },
          "execution_count": 177,
          "metadata": {},
          "output_type": "execute_result"
        }
      ],
      "source": [
        "\"h\" == \"H\""
      ]
    },
    {
      "cell_type": "code",
      "execution_count": 181,
      "metadata": {
        "colab": {
          "base_uri": "https://localhost:8080/",
          "height": 35
        },
        "id": "XtlmPOU_s0RR",
        "outputId": "81867b31-066d-47ec-b78d-1fdfe0472033"
      },
      "outputs": [
        {
          "data": {
            "application/vnd.google.colaboratory.intrinsic+json": {
              "type": "string"
            },
            "text/plain": [
              "'hello world'"
            ]
          },
          "execution_count": 181,
          "metadata": {},
          "output_type": "execute_result"
        }
      ],
      "source": [
        "string_variable"
      ]
    },
    {
      "cell_type": "code",
      "execution_count": 61,
      "metadata": {
        "colab": {
          "base_uri": "https://localhost:8080/"
        },
        "id": "IyOYpYmol7WR",
        "outputId": "a5c3e72a-f86f-4fb4-b386-1cfd5b723f44"
      },
      "outputs": [
        {
          "data": {
            "text/plain": [
              "False"
            ]
          },
          "execution_count": 61,
          "metadata": {},
          "output_type": "execute_result"
        }
      ],
      "source": [
        "string_variable.isalpha()"
      ]
    },
    {
      "cell_type": "code",
      "execution_count": 62,
      "metadata": {
        "colab": {
          "base_uri": "https://localhost:8080/"
        },
        "id": "X5uegcFYl7Yq",
        "outputId": "8ce2ebe4-8e64-4b3c-9c0b-c8ce474fca3f"
      },
      "outputs": [
        {
          "data": {
            "text/plain": [
              "True"
            ]
          },
          "execution_count": 62,
          "metadata": {},
          "output_type": "execute_result"
        }
      ],
      "source": [
        "string_variable = 'hello'\n",
        "string_variable.isalpha()"
      ]
    },
    {
      "cell_type": "code",
      "execution_count": 63,
      "metadata": {
        "colab": {
          "base_uri": "https://localhost:8080/",
          "height": 35
        },
        "id": "820uoadkm_m8",
        "outputId": "54d69844-9a57-4803-f6ed-93997ce557b2"
      },
      "outputs": [
        {
          "data": {
            "application/vnd.google.colaboratory.intrinsic+json": {
              "type": "string"
            },
            "text/plain": [
              "'HELLO'"
            ]
          },
          "execution_count": 63,
          "metadata": {},
          "output_type": "execute_result"
        }
      ],
      "source": [
        "string_variable.upper()"
      ]
    },
    {
      "cell_type": "code",
      "execution_count": 64,
      "metadata": {
        "colab": {
          "base_uri": "https://localhost:8080/",
          "height": 35
        },
        "id": "OapfecCtnH7Q",
        "outputId": "95721b32-8b15-4972-9a8c-ae916c3a5d5f"
      },
      "outputs": [
        {
          "data": {
            "application/vnd.google.colaboratory.intrinsic+json": {
              "type": "string"
            },
            "text/plain": [
              "'hello'"
            ]
          },
          "execution_count": 64,
          "metadata": {},
          "output_type": "execute_result"
        }
      ],
      "source": [
        "string_variable = 'HeLlo'\n",
        "string_variable.lower()"
      ]
    },
    {
      "cell_type": "code",
      "execution_count": 65,
      "metadata": {
        "colab": {
          "base_uri": "https://localhost:8080/",
          "height": 35
        },
        "id": "TlgQQMfDnNcF",
        "outputId": "1ce75c48-c1b3-498e-82a3-4eea7e117d0d"
      },
      "outputs": [
        {
          "data": {
            "application/vnd.google.colaboratory.intrinsic+json": {
              "type": "string"
            },
            "text/plain": [
              "'This Is The Title Of An Article'"
            ]
          },
          "execution_count": 65,
          "metadata": {},
          "output_type": "execute_result"
        }
      ],
      "source": [
        "string_variable = 'this is the title of an article'\n",
        "string_variable.title()"
      ]
    },
    {
      "cell_type": "code",
      "execution_count": 66,
      "metadata": {
        "colab": {
          "base_uri": "https://localhost:8080/"
        },
        "id": "eoZ_Uwm7nY1M",
        "outputId": "f2aca48d-be3f-427f-bf02-81c0bc735cae"
      },
      "outputs": [
        {
          "data": {
            "text/plain": [
              "True"
            ]
          },
          "execution_count": 66,
          "metadata": {},
          "output_type": "execute_result"
        }
      ],
      "source": [
        "string_variable = '1234'\n",
        "string_variable.isdigit()"
      ]
    },
    {
      "cell_type": "code",
      "execution_count": 67,
      "metadata": {
        "colab": {
          "base_uri": "https://localhost:8080/"
        },
        "id": "QgWJyWCbnk-G",
        "outputId": "9382512a-b0b6-4f06-a59f-132bbd5c9450"
      },
      "outputs": [
        {
          "data": {
            "text/plain": [
              "['1234']"
            ]
          },
          "execution_count": 67,
          "metadata": {},
          "output_type": "execute_result"
        }
      ],
      "source": [
        "string_variable.split()"
      ]
    },
    {
      "cell_type": "code",
      "execution_count": 182,
      "metadata": {
        "colab": {
          "base_uri": "https://localhost:8080/"
        },
        "id": "wv5we10Gnnf3",
        "outputId": "cb9f8b14-5ff1-44ff-bba3-d000a7808b6f"
      },
      "outputs": [
        {
          "data": {
            "text/plain": [
              "['text', 'to', 'show', 'how', 'string', 'is', 'being', 'split']"
            ]
          },
          "execution_count": 182,
          "metadata": {},
          "output_type": "execute_result"
        }
      ],
      "source": [
        "string_variable = 'text to show how string is being split'\n",
        "string_variable.split()"
      ]
    },
    {
      "cell_type": "code",
      "execution_count": 183,
      "metadata": {
        "colab": {
          "base_uri": "https://localhost:8080/",
          "height": 35
        },
        "id": "C-5-AkBI7Ymc",
        "outputId": "49362294-4cf3-4828-c49f-889ee058f092"
      },
      "outputs": [
        {
          "data": {
            "application/vnd.google.colaboratory.intrinsic+json": {
              "type": "string"
            },
            "text/plain": [
              "'t'"
            ]
          },
          "execution_count": 183,
          "metadata": {},
          "output_type": "execute_result"
        }
      ],
      "source": [
        "string_variable[-1]"
      ]
    },
    {
      "cell_type": "code",
      "execution_count": 69,
      "metadata": {
        "colab": {
          "base_uri": "https://localhost:8080/"
        },
        "id": "5io6H29YnxW3",
        "outputId": "06728fbe-d2ad-4a82-be41-bef3aa686cb7"
      },
      "outputs": [
        {
          "data": {
            "text/plain": [
              "['h', 'i', ' ', 't', 'h', 'e', 'r', 'e']"
            ]
          },
          "execution_count": 69,
          "metadata": {},
          "output_type": "execute_result"
        }
      ],
      "source": [
        "list('hi there')"
      ]
    },
    {
      "cell_type": "code",
      "execution_count": 184,
      "metadata": {
        "colab": {
          "base_uri": "https://localhost:8080/"
        },
        "id": "h7FSLX0YoJUs",
        "outputId": "8f8f4d64-086b-4909-ff3c-b92a1f7e3a7e"
      },
      "outputs": [
        {
          "data": {
            "text/plain": [
              "-1"
            ]
          },
          "execution_count": 184,
          "metadata": {},
          "output_type": "execute_result"
        }
      ],
      "source": [
        "string_variable = 'the average number of daily users is 100K'\n",
        "string_variable.find('200') # substring does not exist"
      ]
    },
    {
      "cell_type": "code",
      "execution_count": 71,
      "metadata": {
        "colab": {
          "base_uri": "https://localhost:8080/"
        },
        "id": "Og_vsJ0tojbC",
        "outputId": "af14f32b-e8cc-4580-f3a7-1b720c590330"
      },
      "outputs": [
        {
          "data": {
            "text/plain": [
              "4"
            ]
          },
          "execution_count": 71,
          "metadata": {},
          "output_type": "execute_result"
        }
      ],
      "source": [
        "string_variable = 'the average number of daily users is 100K'\n",
        "string_variable.find('aver') # substring exists -> index from where \n",
        "                             # subsstring starts"
      ]
    },
    {
      "cell_type": "code",
      "execution_count": 72,
      "metadata": {
        "colab": {
          "base_uri": "https://localhost:8080/"
        },
        "id": "CVInL7hIoxaa",
        "outputId": "03d602e3-4966-41c3-8bd0-ee19378abb33"
      },
      "outputs": [
        {
          "data": {
            "text/plain": [
              "0"
            ]
          },
          "execution_count": 72,
          "metadata": {},
          "output_type": "execute_result"
        }
      ],
      "source": [
        "string_variable = 'the average number of daily users is 100K'\n",
        "string_variable.index('the') # returns the start index"
      ]
    },
    {
      "cell_type": "code",
      "execution_count": 73,
      "metadata": {
        "colab": {
          "base_uri": "https://localhost:8080/",
          "height": 169
        },
        "id": "__9vk-3-pISi",
        "outputId": "5d452044-b20d-44ee-fd85-39200de1749d"
      },
      "outputs": [
        {
          "ename": "ValueError",
          "evalue": "ignored",
          "output_type": "error",
          "traceback": [
            "\u001b[0;31m---------------------------------------------------------------------------\u001b[0m",
            "\u001b[0;31mValueError\u001b[0m                                Traceback (most recent call last)",
            "\u001b[0;32m<ipython-input-73-49355743f372>\u001b[0m in \u001b[0;36m<module>\u001b[0;34m\u001b[0m\n\u001b[0;32m----> 1\u001b[0;31m \u001b[0mstring_variable\u001b[0m\u001b[0;34m.\u001b[0m\u001b[0mindex\u001b[0m\u001b[0;34m(\u001b[0m\u001b[0;34m'goal'\u001b[0m\u001b[0;34m)\u001b[0m \u001b[0;31m# will raise an error\u001b[0m\u001b[0;34m\u001b[0m\u001b[0;34m\u001b[0m\u001b[0m\n\u001b[0m",
            "\u001b[0;31mValueError\u001b[0m: substring not found"
          ]
        }
      ],
      "source": [
        "string_variable.index('goal') # will raise an error "
      ]
    },
    {
      "cell_type": "code",
      "execution_count": 74,
      "metadata": {
        "colab": {
          "base_uri": "https://localhost:8080/"
        },
        "id": "xaK5WW53pOBN",
        "outputId": "6c329333-1bbf-40b0-d224-373f837afe06"
      },
      "outputs": [
        {
          "data": {
            "text/plain": [
              "True"
            ]
          },
          "execution_count": 74,
          "metadata": {},
          "output_type": "execute_result"
        }
      ],
      "source": [
        "string_variable.startswith('the')"
      ]
    },
    {
      "cell_type": "code",
      "execution_count": 75,
      "metadata": {
        "colab": {
          "base_uri": "https://localhost:8080/"
        },
        "id": "qtpITPDMpXFj",
        "outputId": "5fafb5ec-de2a-487c-8222-816de54e8b17"
      },
      "outputs": [
        {
          "data": {
            "text/plain": [
              "False"
            ]
          },
          "execution_count": 75,
          "metadata": {},
          "output_type": "execute_result"
        }
      ],
      "source": [
        "string_variable.startswith('The')"
      ]
    },
    {
      "cell_type": "code",
      "execution_count": 76,
      "metadata": {
        "colab": {
          "base_uri": "https://localhost:8080/"
        },
        "id": "x9RMCLOYpYvU",
        "outputId": "f5107933-d804-4c41-b42d-0434bb549e7c"
      },
      "outputs": [
        {
          "data": {
            "text/plain": [
              "False"
            ]
          },
          "execution_count": 76,
          "metadata": {},
          "output_type": "execute_result"
        }
      ],
      "source": [
        "string_variable.endswith('the')"
      ]
    },
    {
      "cell_type": "code",
      "execution_count": 77,
      "metadata": {
        "colab": {
          "base_uri": "https://localhost:8080/"
        },
        "id": "v3jpqYEdpd8P",
        "outputId": "c04af065-c976-4cbe-ca5a-7ab01ac869d1"
      },
      "outputs": [
        {
          "data": {
            "text/plain": [
              "True"
            ]
          },
          "execution_count": 77,
          "metadata": {},
          "output_type": "execute_result"
        }
      ],
      "source": [
        "string_variable.endswith('K')"
      ]
    },
    {
      "cell_type": "code",
      "execution_count": 78,
      "metadata": {
        "colab": {
          "base_uri": "https://localhost:8080/",
          "height": 35
        },
        "id": "Y5uKPFqmpf-I",
        "outputId": "e5205add-ba75-4573-ad88-3a95074ffbee"
      },
      "outputs": [
        {
          "data": {
            "application/vnd.google.colaboratory.intrinsic+json": {
              "type": "string"
            },
            "text/plain": [
              "'the average number of daily users is 500K'"
            ]
          },
          "execution_count": 78,
          "metadata": {},
          "output_type": "execute_result"
        }
      ],
      "source": [
        "string_variable.replace('100K','500K')"
      ]
    },
    {
      "cell_type": "code",
      "execution_count": 79,
      "metadata": {
        "colab": {
          "base_uri": "https://localhost:8080/",
          "height": 35
        },
        "id": "HmaBsC_Lp7DR",
        "outputId": "25767e48-b418-476b-afbf-c307c06185e1"
      },
      "outputs": [
        {
          "data": {
            "application/vnd.google.colaboratory.intrinsic+json": {
              "type": "string"
            },
            "text/plain": [
              "'the average number of daily users is 100K'"
            ]
          },
          "execution_count": 79,
          "metadata": {},
          "output_type": "execute_result"
        }
      ],
      "source": [
        "string_variable # don't let python to confuse you\n",
        "                # it still did not change it\n",
        "                # just created a new one "
      ]
    },
    {
      "cell_type": "code",
      "execution_count": 80,
      "metadata": {
        "colab": {
          "base_uri": "https://localhost:8080/",
          "height": 35
        },
        "id": "db2DPFe7p-hU",
        "outputId": "4564cd9d-aba7-4d9c-d60c-843e1aeb137e"
      },
      "outputs": [
        {
          "data": {
            "application/vnd.google.colaboratory.intrinsic+json": {
              "type": "string"
            },
            "text/plain": [
              "'the average number of daily users is 100K'"
            ]
          },
          "execution_count": 80,
          "metadata": {},
          "output_type": "execute_result"
        }
      ],
      "source": [
        "string_variable = '  the average number of daily users is 100K '\n",
        "string_variable.strip() # returns without white-spaces \n",
        "                        # at the end & beginning"
      ]
    },
    {
      "cell_type": "code",
      "execution_count": 81,
      "metadata": {
        "colab": {
          "base_uri": "https://localhost:8080/",
          "height": 35
        },
        "id": "vnkv4Qy4qxZ8",
        "outputId": "50185ecd-b6f3-4a8a-e4d5-df8df4cea1cf"
      },
      "outputs": [
        {
          "data": {
            "application/vnd.google.colaboratory.intrinsic+json": {
              "type": "string"
            },
            "text/plain": [
              "'average'"
            ]
          },
          "execution_count": 81,
          "metadata": {},
          "output_type": "execute_result"
        }
      ],
      "source": [
        "# Slicing\n",
        "string_variable = 'the average number of daily users is 100K'\n",
        "string_variable[4:11] # will not take the last index"
      ]
    },
    {
      "cell_type": "code",
      "execution_count": 185,
      "metadata": {
        "colab": {
          "base_uri": "https://localhost:8080/",
          "height": 35
        },
        "id": "X3nAYTpV9TBM",
        "outputId": "b81a9f33-79c0-4018-edf6-0b7f6d863eda"
      },
      "outputs": [
        {
          "data": {
            "application/vnd.google.colaboratory.intrinsic+json": {
              "type": "string"
            },
            "text/plain": [
              "'t'"
            ]
          },
          "execution_count": 185,
          "metadata": {},
          "output_type": "execute_result"
        }
      ],
      "source": [
        "string_variable[0]"
      ]
    },
    {
      "cell_type": "markdown",
      "metadata": {
        "id": "RSaHtkIB9WtW"
      },
      "source": [
        "Slicing"
      ]
    },
    {
      "cell_type": "code",
      "execution_count": 82,
      "metadata": {
        "colab": {
          "base_uri": "https://localhost:8080/",
          "height": 35
        },
        "id": "7TwKoEbNvGuG",
        "outputId": "5dc017ce-8137-4b95-9696-e11292cb2413"
      },
      "outputs": [
        {
          "data": {
            "application/vnd.google.colaboratory.intrinsic+json": {
              "type": "string"
            },
            "text/plain": [
              "'the average'"
            ]
          },
          "execution_count": 82,
          "metadata": {},
          "output_type": "execute_result"
        }
      ],
      "source": [
        "string_variable[0:11]"
      ]
    },
    {
      "cell_type": "markdown",
      "metadata": {
        "id": "JO-CQXiC9s_F"
      },
      "source": []
    },
    {
      "cell_type": "code",
      "execution_count": 186,
      "metadata": {
        "colab": {
          "base_uri": "https://localhost:8080/",
          "height": 35
        },
        "id": "fI6hXtK99tH9",
        "outputId": "b9219a9e-7970-440c-f17f-d081adb92049"
      },
      "outputs": [
        {
          "data": {
            "application/vnd.google.colaboratory.intrinsic+json": {
              "type": "string"
            },
            "text/plain": [
              "'the average number of daily users is 100K'"
            ]
          },
          "execution_count": 186,
          "metadata": {},
          "output_type": "execute_result"
        }
      ],
      "source": [
        "string_variable"
      ]
    },
    {
      "cell_type": "code",
      "execution_count": 187,
      "metadata": {
        "colab": {
          "base_uri": "https://localhost:8080/",
          "height": 35
        },
        "id": "fv3lB4IhvRSG",
        "outputId": "0de2a58e-a5a7-463a-b07a-e9e300b7b87c"
      },
      "outputs": [
        {
          "data": {
            "application/vnd.google.colaboratory.intrinsic+json": {
              "type": "string"
            },
            "text/plain": [
              "'h v'"
            ]
          },
          "execution_count": 187,
          "metadata": {},
          "output_type": "execute_result"
        }
      ],
      "source": [
        "string_variable[1:7:2] # 2 is the step here"
      ]
    },
    {
      "cell_type": "code",
      "execution_count": 84,
      "metadata": {
        "colab": {
          "base_uri": "https://localhost:8080/",
          "height": 35
        },
        "id": "WPH-JZSZvXUc",
        "outputId": "5375f108-9f67-4ed4-d588-aab13aa2a89c"
      },
      "outputs": [
        {
          "data": {
            "application/vnd.google.colaboratory.intrinsic+json": {
              "type": "string"
            },
            "text/plain": [
              "'verage number of daily users is 10'"
            ]
          },
          "execution_count": 84,
          "metadata": {},
          "output_type": "execute_result"
        }
      ],
      "source": [
        "string_variable[5:-2]"
      ]
    },
    {
      "cell_type": "code",
      "execution_count": 85,
      "metadata": {
        "colab": {
          "base_uri": "https://localhost:8080/",
          "height": 35
        },
        "id": "ZNsrKu2FviOv",
        "outputId": "93fdcaeb-370b-416b-ad1b-c1a0f446eccb"
      },
      "outputs": [
        {
          "data": {
            "application/vnd.google.colaboratory.intrinsic+json": {
              "type": "string"
            },
            "text/plain": [
              "'01s rs la orbu grv'"
            ]
          },
          "execution_count": 85,
          "metadata": {},
          "output_type": "execute_result"
        }
      ],
      "source": [
        "string_variable[-2:3:-2]"
      ]
    },
    {
      "cell_type": "code",
      "execution_count": 86,
      "metadata": {
        "colab": {
          "base_uri": "https://localhost:8080/",
          "height": 35
        },
        "id": "kFhkjjJbv7r8",
        "outputId": "784681e7-6be7-4c63-cdf5-d6f001d36588"
      },
      "outputs": [
        {
          "data": {
            "application/vnd.google.colaboratory.intrinsic+json": {
              "type": "string"
            },
            "text/plain": [
              "'K001 si sresu yliad fo rebmun egareva eht'"
            ]
          },
          "execution_count": 86,
          "metadata": {},
          "output_type": "execute_result"
        }
      ],
      "source": [
        "string_variable[::-1] #reverse "
      ]
    },
    {
      "cell_type": "code",
      "execution_count": 86,
      "metadata": {
        "id": "b45E9AZrv_t9"
      },
      "outputs": [],
      "source": []
    },
    {
      "cell_type": "markdown",
      "metadata": {
        "id": "PWvvXyIPwMKN"
      },
      "source": [
        "Input"
      ]
    },
    {
      "cell_type": "code",
      "execution_count": 190,
      "metadata": {
        "colab": {
          "base_uri": "https://localhost:8080/"
        },
        "id": "Ecpgmch8wNCG",
        "outputId": "61599ea0-775b-4bda-f565-712266771696"
      },
      "outputs": [
        {
          "name": "stdout",
          "output_type": "stream",
          "text": [
            "please input your name676\n",
            "676\n"
          ]
        }
      ],
      "source": [
        "name1 = input('please input your name')\n",
        "print(name1)"
      ]
    },
    {
      "cell_type": "code",
      "execution_count": 193,
      "metadata": {
        "colab": {
          "base_uri": "https://localhost:8080/"
        },
        "id": "847tGTQjwROz",
        "outputId": "e34de2f7-4df4-4875-dd6c-1d579c39ae0c"
      },
      "outputs": [
        {
          "name": "stdout",
          "output_type": "stream",
          "text": [
            "please input your age6\n"
          ]
        },
        {
          "data": {
            "text/plain": [
              "int"
            ]
          },
          "execution_count": 193,
          "metadata": {},
          "output_type": "execute_result"
        }
      ],
      "source": [
        "age1 = int(input('please input your age'))\n",
        "age1\n",
        "type(age1)"
      ]
    },
    {
      "cell_type": "code",
      "execution_count": 88,
      "metadata": {
        "id": "0yXK-PsrwbbU"
      },
      "outputs": [],
      "source": []
    },
    {
      "cell_type": "markdown",
      "metadata": {
        "id": "CIwpbptmwtWl"
      },
      "source": [
        "Boolean"
      ]
    },
    {
      "cell_type": "code",
      "execution_count": 89,
      "metadata": {
        "id": "9BjbV4YCwuuV"
      },
      "outputs": [],
      "source": [
        "a = True\n",
        "b = False"
      ]
    },
    {
      "cell_type": "code",
      "execution_count": 90,
      "metadata": {
        "colab": {
          "base_uri": "https://localhost:8080/"
        },
        "id": "1RxLA36ewxf7",
        "outputId": "c954136b-0917-41b1-f652-a28a685613cf"
      },
      "outputs": [
        {
          "data": {
            "text/plain": [
              "bool"
            ]
          },
          "execution_count": 90,
          "metadata": {},
          "output_type": "execute_result"
        }
      ],
      "source": [
        "type(a)"
      ]
    },
    {
      "cell_type": "code",
      "execution_count": 91,
      "metadata": {
        "colab": {
          "base_uri": "https://localhost:8080/"
        },
        "id": "v_YsPNaLqUsu",
        "outputId": "0ecfe2a4-83d7-4ef9-c6e1-db1bfbc0cf47"
      },
      "outputs": [
        {
          "data": {
            "text/plain": [
              "True"
            ]
          },
          "execution_count": 91,
          "metadata": {},
          "output_type": "execute_result"
        }
      ],
      "source": [
        "5+5 == 7+3"
      ]
    },
    {
      "cell_type": "code",
      "execution_count": 92,
      "metadata": {
        "colab": {
          "base_uri": "https://localhost:8080/"
        },
        "id": "WhscgBTWqUvk",
        "outputId": "3577491f-0fa4-4e2e-fe2d-5ba7e9b22ebe"
      },
      "outputs": [
        {
          "data": {
            "text/plain": [
              "True"
            ]
          },
          "execution_count": 92,
          "metadata": {},
          "output_type": "execute_result"
        }
      ],
      "source": [
        "10 % 2 == 0"
      ]
    },
    {
      "cell_type": "code",
      "execution_count": 93,
      "metadata": {
        "colab": {
          "base_uri": "https://localhost:8080/"
        },
        "id": "d_oVGZhoqazw",
        "outputId": "87ab7945-30a4-4138-b5ec-2d14460993e9"
      },
      "outputs": [
        {
          "data": {
            "text/plain": [
              "False"
            ]
          },
          "execution_count": 93,
          "metadata": {},
          "output_type": "execute_result"
        }
      ],
      "source": [
        "60 % 6 != 0"
      ]
    },
    {
      "cell_type": "code",
      "execution_count": 94,
      "metadata": {
        "colab": {
          "base_uri": "https://localhost:8080/"
        },
        "id": "tAYIpp9Kqa2K",
        "outputId": "27156703-ecc9-46c8-8f4a-967633267bab"
      },
      "outputs": [
        {
          "data": {
            "text/plain": [
              "True"
            ]
          },
          "execution_count": 94,
          "metadata": {},
          "output_type": "execute_result"
        }
      ],
      "source": [
        "'abc' == 'abc'"
      ]
    },
    {
      "cell_type": "code",
      "execution_count": 95,
      "metadata": {
        "colab": {
          "base_uri": "https://localhost:8080/"
        },
        "id": "9Eyh5lthqa4n",
        "outputId": "383197ff-b2e6-4223-9057-e192e8d81ef4"
      },
      "outputs": [
        {
          "data": {
            "text/plain": [
              "True"
            ]
          },
          "execution_count": 95,
          "metadata": {},
          "output_type": "execute_result"
        }
      ],
      "source": [
        "'abc' <'bbc'"
      ]
    },
    {
      "cell_type": "code",
      "execution_count": 96,
      "metadata": {
        "colab": {
          "base_uri": "https://localhost:8080/"
        },
        "id": "1fMkr3kjqa6q",
        "outputId": "441e0bc2-a9b4-4e53-919c-1b85448685b3"
      },
      "outputs": [
        {
          "data": {
            "text/plain": [
              "True"
            ]
          },
          "execution_count": 96,
          "metadata": {},
          "output_type": "execute_result"
        }
      ],
      "source": [
        "'abc' <'abcd'"
      ]
    },
    {
      "cell_type": "markdown",
      "metadata": {
        "id": "B3eBjaVYxs5D"
      },
      "source": [
        "List"
      ]
    },
    {
      "cell_type": "code",
      "execution_count": 97,
      "metadata": {
        "colab": {
          "base_uri": "https://localhost:8080/"
        },
        "id": "ES9CrRqqxuhw",
        "outputId": "c3661f1f-13eb-4985-c8e4-da3afdfde11a"
      },
      "outputs": [
        {
          "data": {
            "text/plain": [
              "2"
            ]
          },
          "execution_count": 97,
          "metadata": {},
          "output_type": "execute_result"
        }
      ],
      "source": [
        "list_variable = [1,2,3,4,5]\n",
        "list_variable[1] "
      ]
    },
    {
      "cell_type": "code",
      "execution_count": 98,
      "metadata": {
        "colab": {
          "base_uri": "https://localhost:8080/"
        },
        "id": "LuUC8bSjxu96",
        "outputId": "ac325335-644c-445a-e78e-9daa47241c49"
      },
      "outputs": [
        {
          "data": {
            "text/plain": [
              "[1, 200, 3, 4, 5]"
            ]
          },
          "execution_count": 98,
          "metadata": {},
          "output_type": "execute_result"
        }
      ],
      "source": [
        "list_variable[1] = 200\n",
        "list_variable #mutable type"
      ]
    },
    {
      "cell_type": "code",
      "execution_count": 99,
      "metadata": {
        "colab": {
          "base_uri": "https://localhost:8080/"
        },
        "id": "xT2-2v7Dxu_7",
        "outputId": "62da986f-1e2b-4403-d955-77beae2bfef3"
      },
      "outputs": [
        {
          "data": {
            "text/plain": [
              "5"
            ]
          },
          "execution_count": 99,
          "metadata": {},
          "output_type": "execute_result"
        }
      ],
      "source": [
        "list_variable[-1]"
      ]
    },
    {
      "cell_type": "code",
      "execution_count": 100,
      "metadata": {
        "colab": {
          "base_uri": "https://localhost:8080/"
        },
        "id": "z_-vbLyvxvB9",
        "outputId": "88ebee65-abd9-43ff-ae5f-0a4c6f381704"
      },
      "outputs": [
        {
          "data": {
            "text/plain": [
              "[200, 3]"
            ]
          },
          "execution_count": 100,
          "metadata": {},
          "output_type": "execute_result"
        }
      ],
      "source": [
        "list_variable[1:3] "
      ]
    },
    {
      "cell_type": "code",
      "execution_count": 101,
      "metadata": {
        "colab": {
          "base_uri": "https://localhost:8080/"
        },
        "id": "dtmKb0KIxvDp",
        "outputId": "ab3d9b64-1709-4390-a344-a652a855c4fa"
      },
      "outputs": [
        {
          "data": {
            "text/plain": [
              "[1, 44, 55, 4, 5]"
            ]
          },
          "execution_count": 101,
          "metadata": {},
          "output_type": "execute_result"
        }
      ],
      "source": [
        "list_variable[1:3] = (44,55) \n",
        "list_variable "
      ]
    },
    {
      "cell_type": "code",
      "execution_count": 102,
      "metadata": {
        "colab": {
          "base_uri": "https://localhost:8080/"
        },
        "id": "1wX6vF3txvFk",
        "outputId": "03084b09-1a38-42ad-c7e8-ab819e3da6a2"
      },
      "outputs": [
        {
          "data": {
            "text/plain": [
              "[1, 44, 'hi', 4, 5]"
            ]
          },
          "execution_count": 102,
          "metadata": {},
          "output_type": "execute_result"
        }
      ],
      "source": [
        "list_variable[2] = 'hi'\n",
        "list_variable "
      ]
    },
    {
      "cell_type": "code",
      "execution_count": 194,
      "metadata": {
        "colab": {
          "base_uri": "https://localhost:8080/"
        },
        "id": "49mvhWjuxvLW",
        "outputId": "56adc1c7-b58a-4e19-a14b-52b6b2f13b66"
      },
      "outputs": [
        {
          "data": {
            "text/plain": [
              "600"
            ]
          },
          "execution_count": 194,
          "metadata": {},
          "output_type": "execute_result"
        }
      ],
      "source": [
        "list_variable = [1,2,3, [400,600]] \n",
        "list_variable[3][1] "
      ]
    },
    {
      "cell_type": "code",
      "execution_count": 195,
      "metadata": {
        "colab": {
          "base_uri": "https://localhost:8080/"
        },
        "id": "FY3R5eflBh7E",
        "outputId": "d3c26aac-63af-4c6c-cb0e-cebf7b09a172"
      },
      "outputs": [
        {
          "data": {
            "text/plain": [
              "[400, 600]"
            ]
          },
          "execution_count": 195,
          "metadata": {},
          "output_type": "execute_result"
        }
      ],
      "source": [
        "list_variable[3]"
      ]
    },
    {
      "cell_type": "code",
      "execution_count": 104,
      "metadata": {
        "colab": {
          "base_uri": "https://localhost:8080/"
        },
        "id": "kcftiB4Xy3wV",
        "outputId": "22ba8c7b-21cc-406a-ebe7-2450cfc9f844"
      },
      "outputs": [
        {
          "data": {
            "text/plain": [
              "[1, 2, 3, [400, 600], 80]"
            ]
          },
          "execution_count": 104,
          "metadata": {},
          "output_type": "execute_result"
        }
      ],
      "source": [
        "list_variable.append(80)\n",
        "list_variable "
      ]
    },
    {
      "cell_type": "code",
      "execution_count": 196,
      "metadata": {
        "id": "ht0wJbVFy3yo"
      },
      "outputs": [],
      "source": [
        "list_variable.insert(3,'hello')"
      ]
    },
    {
      "cell_type": "code",
      "execution_count": 197,
      "metadata": {
        "colab": {
          "base_uri": "https://localhost:8080/"
        },
        "id": "uDrTOCPFzMxs",
        "outputId": "b58c4175-09d4-4798-8ae1-7faaf2f33c31"
      },
      "outputs": [
        {
          "data": {
            "text/plain": [
              "[1, 2, 3, 'hello', [400, 600]]"
            ]
          },
          "execution_count": 197,
          "metadata": {},
          "output_type": "execute_result"
        }
      ],
      "source": [
        "list_variable"
      ]
    },
    {
      "cell_type": "code",
      "execution_count": 200,
      "metadata": {
        "id": "Aw_4cFFDzMz-"
      },
      "outputs": [],
      "source": [
        "list_variable.extend([1,2]) "
      ]
    },
    {
      "cell_type": "code",
      "execution_count": 201,
      "metadata": {
        "colab": {
          "base_uri": "https://localhost:8080/"
        },
        "id": "eZLaq4ewzjTz",
        "outputId": "c2e66a6e-56d6-49af-c00e-9ee963f00cba"
      },
      "outputs": [
        {
          "data": {
            "text/plain": [
              "[1, 2, 3, 'hello', [400, 600], 1, 2, 3, 'hello', [400, 600], 1, 2]"
            ]
          },
          "execution_count": 201,
          "metadata": {},
          "output_type": "execute_result"
        }
      ],
      "source": [
        "list_variable"
      ]
    },
    {
      "cell_type": "code",
      "execution_count": 109,
      "metadata": {
        "colab": {
          "base_uri": "https://localhost:8080/"
        },
        "id": "hWQoW_tyzjWW",
        "outputId": "c486c398-1118-4f48-ae03-a218d089952c"
      },
      "outputs": [
        {
          "data": {
            "text/plain": [
              "['hello',\n",
              " 1,\n",
              " 2,\n",
              " 3,\n",
              " [400, 600],\n",
              " 80,\n",
              " 'hello',\n",
              " 1,\n",
              " 2,\n",
              " 3,\n",
              " [400, 600],\n",
              " 80,\n",
              " 7000,\n",
              " 9000]"
            ]
          },
          "execution_count": 109,
          "metadata": {},
          "output_type": "execute_result"
        }
      ],
      "source": [
        "list_variable + [7000,9000] "
      ]
    },
    {
      "cell_type": "code",
      "execution_count": 110,
      "metadata": {
        "id": "ssvNjhkbzt8K"
      },
      "outputs": [],
      "source": [
        "list_variable.remove('hello') # only first met "
      ]
    },
    {
      "cell_type": "code",
      "execution_count": 111,
      "metadata": {
        "colab": {
          "base_uri": "https://localhost:8080/"
        },
        "id": "KLFm5OqYzt-b",
        "outputId": "b1596513-e2c4-4180-873d-92412fb00356"
      },
      "outputs": [
        {
          "data": {
            "text/plain": [
              "[1, 2, 3, [400, 600], 80, 'hello', 1, 2, 3, [400, 600], 80]"
            ]
          },
          "execution_count": 111,
          "metadata": {},
          "output_type": "execute_result"
        }
      ],
      "source": [
        "list_variable"
      ]
    },
    {
      "cell_type": "code",
      "execution_count": 112,
      "metadata": {
        "colab": {
          "base_uri": "https://localhost:8080/",
          "height": 169
        },
        "id": "v7GQzJ-KzuBK",
        "outputId": "efc0a0dc-06ab-43c5-b9cc-0586982a8c76"
      },
      "outputs": [
        {
          "ename": "ValueError",
          "evalue": "ignored",
          "output_type": "error",
          "traceback": [
            "\u001b[0;31m---------------------------------------------------------------------------\u001b[0m",
            "\u001b[0;31mValueError\u001b[0m                                Traceback (most recent call last)",
            "\u001b[0;32m<ipython-input-112-d51a890b34f5>\u001b[0m in \u001b[0;36m<module>\u001b[0;34m\u001b[0m\n\u001b[0;32m----> 1\u001b[0;31m \u001b[0mlist_variable\u001b[0m\u001b[0;34m.\u001b[0m\u001b[0mremove\u001b[0m\u001b[0;34m(\u001b[0m\u001b[0;34m'bye'\u001b[0m\u001b[0;34m)\u001b[0m\u001b[0;34m\u001b[0m\u001b[0;34m\u001b[0m\u001b[0m\n\u001b[0m",
            "\u001b[0;31mValueError\u001b[0m: list.remove(x): x not in list"
          ]
        }
      ],
      "source": [
        "list_variable.remove('bye')"
      ]
    },
    {
      "cell_type": "code",
      "execution_count": 113,
      "metadata": {
        "colab": {
          "base_uri": "https://localhost:8080/"
        },
        "id": "SnnEFRsSzjYt",
        "outputId": "1e923519-f00a-44e7-8adf-89187e0ef95a"
      },
      "outputs": [
        {
          "data": {
            "text/plain": [
              "80"
            ]
          },
          "execution_count": 113,
          "metadata": {},
          "output_type": "execute_result"
        }
      ],
      "source": [
        "pop_item = list_variable.pop()\n",
        "pop_item"
      ]
    },
    {
      "cell_type": "code",
      "execution_count": 114,
      "metadata": {
        "colab": {
          "base_uri": "https://localhost:8080/"
        },
        "id": "2j74ZFLozjbE",
        "outputId": "83a9079b-d4ac-46a3-bb31-bcf2cb86ba97"
      },
      "outputs": [
        {
          "data": {
            "text/plain": [
              "[1, 2, 3, [400, 600], 80, 'hello', 1, 2, 3, [400, 600]]"
            ]
          },
          "execution_count": 114,
          "metadata": {},
          "output_type": "execute_result"
        }
      ],
      "source": [
        "list_variable"
      ]
    },
    {
      "cell_type": "code",
      "execution_count": 115,
      "metadata": {
        "id": "wnUP-Otjy33p"
      },
      "outputs": [],
      "source": [
        "list_variable.clear() "
      ]
    },
    {
      "cell_type": "code",
      "execution_count": 116,
      "metadata": {
        "colab": {
          "base_uri": "https://localhost:8080/"
        },
        "id": "D-zZuxpky36G",
        "outputId": "e664665a-58ed-4cb0-c6ef-30f804d3b48c"
      },
      "outputs": [
        {
          "data": {
            "text/plain": [
              "[]"
            ]
          },
          "execution_count": 116,
          "metadata": {},
          "output_type": "execute_result"
        }
      ],
      "source": [
        "list_variable"
      ]
    },
    {
      "cell_type": "code",
      "execution_count": 117,
      "metadata": {
        "colab": {
          "base_uri": "https://localhost:8080/"
        },
        "id": "f6z6xgYwxvNL",
        "outputId": "c5a4e5b5-cb43-47c1-b176-d83f1952f5ed"
      },
      "outputs": [
        {
          "data": {
            "text/plain": [
              "0"
            ]
          },
          "execution_count": 117,
          "metadata": {},
          "output_type": "execute_result"
        }
      ],
      "source": [
        "list_variable = [1,2,3, [400,600]]\n",
        "list_variable.index(1) # index of value"
      ]
    },
    {
      "cell_type": "code",
      "execution_count": 202,
      "metadata": {
        "colab": {
          "base_uri": "https://localhost:8080/"
        },
        "id": "UmgGlNiI0Z5W",
        "outputId": "96252143-ea42-4f37-f74f-c2bc36d0f129"
      },
      "outputs": [
        {
          "data": {
            "text/plain": [
              "[1, 2, 3, 'hello', [400, 600], 1, 2, 3, 'hello', [400, 600], 1, 2]"
            ]
          },
          "execution_count": 202,
          "metadata": {},
          "output_type": "execute_result"
        }
      ],
      "source": [
        "list_variable2 = list_variable.copy()\n",
        "list_variable2 "
      ]
    },
    {
      "cell_type": "code",
      "execution_count": 203,
      "metadata": {
        "colab": {
          "base_uri": "https://localhost:8080/"
        },
        "id": "-OZWI0o90Z7o",
        "outputId": "019277c6-9d31-4f50-c83f-f62adb5e0c74"
      },
      "outputs": [
        {
          "name": "stdout",
          "output_type": "stream",
          "text": [
            "['hi', 2, 3, 'hello', [400, 600], 1, 2, 3, 'hello', [400, 600], 1, 2]\n",
            "[1, 2, 3, 'hello', [400, 600], 1, 2, 3, 'hello', [400, 600], 1, 2]\n"
          ]
        }
      ],
      "source": [
        "# why copy?\n",
        "\n",
        "list_variable2[0] = 'hi'\n",
        "print(list_variable2)\n",
        "print(list_variable)"
      ]
    },
    {
      "cell_type": "code",
      "execution_count": 204,
      "metadata": {
        "colab": {
          "base_uri": "https://localhost:8080/"
        },
        "id": "Ks8TdXsF0uMK",
        "outputId": "837c6c81-2b9d-4369-bdca-2b1796e2cc52"
      },
      "outputs": [
        {
          "data": {
            "text/plain": [
              "[1, 2, 3, 'hello', [400, 600], 1, 2, 3, 'hello', [400, 600], 1, 2]"
            ]
          },
          "execution_count": 204,
          "metadata": {},
          "output_type": "execute_result"
        }
      ],
      "source": [
        "list_variable3 = list_variable \n",
        "list_variable3"
      ]
    },
    {
      "cell_type": "code",
      "execution_count": 206,
      "metadata": {
        "colab": {
          "base_uri": "https://localhost:8080/"
        },
        "id": "lXWTHvM5gWvT",
        "outputId": "9905a064-215b-4a1d-ce1a-d0fd6437ef77"
      },
      "outputs": [
        {
          "data": {
            "text/plain": [
              "12"
            ]
          },
          "execution_count": 206,
          "metadata": {},
          "output_type": "execute_result"
        }
      ],
      "source": [
        "len(list_variable3) "
      ]
    },
    {
      "cell_type": "code",
      "execution_count": 205,
      "metadata": {
        "colab": {
          "base_uri": "https://localhost:8080/"
        },
        "id": "mqHzA6c30uOs",
        "outputId": "8e8d021a-8a15-4b1c-fbbc-8267b0214fe9"
      },
      "outputs": [
        {
          "name": "stdout",
          "output_type": "stream",
          "text": [
            "['hi', 2, 3, 'hello', [400, 600], 1, 2, 3, 'hello', [400, 600], 1, 2]\n",
            "['hi', 2, 3, 'hello', [400, 600], 1, 2, 3, 'hello', [400, 600], 1, 2]\n"
          ]
        }
      ],
      "source": [
        "list_variable3[0] = 'hi' # both change\n",
        "print(list_variable3)\n",
        "print(list_variable) "
      ]
    },
    {
      "cell_type": "code",
      "execution_count": 207,
      "metadata": {
        "colab": {
          "base_uri": "https://localhost:8080/"
        },
        "id": "6IeCperX0sbM",
        "outputId": "f863c2c0-00b3-4d03-be05-14b829a33367"
      },
      "outputs": [
        {
          "data": {
            "text/plain": [
              "3"
            ]
          },
          "execution_count": 207,
          "metadata": {},
          "output_type": "execute_result"
        }
      ],
      "source": [
        "list_variable3.count(2) # count of value "
      ]
    },
    {
      "cell_type": "code",
      "execution_count": 211,
      "metadata": {
        "id": "0bmZ9Vxs0sdW"
      },
      "outputs": [],
      "source": [
        "list_variable = [3,10,45,99,1,4,1000, 4890]\n",
        "list_variable.sort(reverse=True)\n",
        "list_variable"
      ]
    },
    {
      "cell_type": "code",
      "execution_count": 212,
      "metadata": {
        "colab": {
          "base_uri": "https://localhost:8080/"
        },
        "id": "15RiB8er0sfh",
        "outputId": "8b3c788f-bb9b-4009-f1b9-8e94980aca4a"
      },
      "outputs": [
        {
          "data": {
            "text/plain": [
              "[4890, 1000, 4, 1, 99, 45, 10, 3]"
            ]
          },
          "execution_count": 212,
          "metadata": {},
          "output_type": "execute_result"
        }
      ],
      "source": [
        "# reverse\n",
        "\n",
        "list_variable.reverse()\n",
        "list_variable "
      ]
    },
    {
      "cell_type": "code",
      "execution_count": 214,
      "metadata": {
        "colab": {
          "base_uri": "https://localhost:8080/"
        },
        "id": "7plF6pnNbT6S",
        "outputId": "eec1a331-5b12-491d-e4b9-2d4c304ca090"
      },
      "outputs": [
        {
          "data": {
            "text/plain": [
              "[4890, 1000, 4, 1, 99, 45, 10, 3]"
            ]
          },
          "execution_count": 214,
          "metadata": {},
          "output_type": "execute_result"
        }
      ],
      "source": [
        "list_variable = [3,10,45,99,1,4,1000, 4890]\n",
        "# list_variable.sort()\n",
        "list_variable[::-1] # same thing"
      ]
    },
    {
      "cell_type": "markdown",
      "metadata": {
        "id": "l3SGksvcbqQZ"
      },
      "source": [
        "Set"
      ]
    },
    {
      "cell_type": "code",
      "execution_count": 215,
      "metadata": {
        "colab": {
          "base_uri": "https://localhost:8080/"
        },
        "id": "GkqERIQ4bT8i",
        "outputId": "da8aa45d-844e-421f-a974-9c0fc0edf651"
      },
      "outputs": [
        {
          "name": "stdout",
          "output_type": "stream",
          "text": [
            "{1, 2, 3, 4, 6, 9}\n"
          ]
        }
      ],
      "source": [
        "#unique items\n",
        "#no order \n",
        "#no indexing\n",
        "#Mutable\n",
        "\n",
        "set_variable = set([1,2,2,3,4,6,1,9])\n",
        "print(set_variable)"
      ]
    },
    {
      "cell_type": "code",
      "execution_count": 128,
      "metadata": {
        "colab": {
          "base_uri": "https://localhost:8080/"
        },
        "id": "r9B66XojbT-_",
        "outputId": "19700219-c232-4bca-89c5-f3b21c8bf5fc"
      },
      "outputs": [
        {
          "name": "stdout",
          "output_type": "stream",
          "text": [
            "[0, 1, 2, 3, 4, 5, 6, 66, 8, 9, 12, 45, 78]\n"
          ]
        }
      ],
      "source": [
        "# get unique values in list\n",
        "\n",
        "our_list = [1,1,2,2,3,6,5,4,4,8,9,0,1,2,45,66,78,12]\n",
        "print(list(set(our_list)))"
      ]
    },
    {
      "cell_type": "code",
      "execution_count": 216,
      "metadata": {
        "colab": {
          "base_uri": "https://localhost:8080/"
        },
        "id": "jIhSmxYDbUBM",
        "outputId": "bd2f8903-0a67-42f2-961f-169f0bd0da41"
      },
      "outputs": [
        {
          "data": {
            "text/plain": [
              "{1, 2}"
            ]
          },
          "execution_count": 216,
          "metadata": {},
          "output_type": "execute_result"
        }
      ],
      "source": [
        "# get difference\n",
        "\n",
        "# items that are in set1 and not in set2\n",
        "\n",
        "set1 = set([1,2,3,4,6])\n",
        "set2 = set([3,4,6])\n",
        "\n",
        "set1.difference(set2)"
      ]
    },
    {
      "cell_type": "code",
      "execution_count": 217,
      "metadata": {
        "id": "a2wQJyVVbUDW"
      },
      "outputs": [],
      "source": [
        "set2.add(20) "
      ]
    },
    {
      "cell_type": "code",
      "execution_count": 218,
      "metadata": {
        "colab": {
          "base_uri": "https://localhost:8080/"
        },
        "id": "h2yLCRLAbUFp",
        "outputId": "3460212e-02bc-4236-fd46-a93ca6f7afe6"
      },
      "outputs": [
        {
          "data": {
            "text/plain": [
              "{3, 4, 6, 20}"
            ]
          },
          "execution_count": 218,
          "metadata": {},
          "output_type": "execute_result"
        }
      ],
      "source": [
        "set2"
      ]
    },
    {
      "cell_type": "code",
      "execution_count": 219,
      "metadata": {
        "id": "wEnsZehIMJSi"
      },
      "outputs": [],
      "source": [
        "set2.add(3)"
      ]
    },
    {
      "cell_type": "code",
      "execution_count": 220,
      "metadata": {
        "colab": {
          "base_uri": "https://localhost:8080/"
        },
        "id": "oDfNbkqyMMB2",
        "outputId": "ee7c8bc2-c086-4946-bac2-07c903e5c674"
      },
      "outputs": [
        {
          "data": {
            "text/plain": [
              "{3, 4, 6, 20}"
            ]
          },
          "execution_count": 220,
          "metadata": {},
          "output_type": "execute_result"
        }
      ],
      "source": [
        "set2"
      ]
    },
    {
      "cell_type": "code",
      "execution_count": 132,
      "metadata": {
        "colab": {
          "base_uri": "https://localhost:8080/"
        },
        "id": "JMKDhphegNdu",
        "outputId": "69f44504-8065-4834-8391-ad30b1501d81"
      },
      "outputs": [
        {
          "data": {
            "text/plain": [
              "4"
            ]
          },
          "execution_count": 132,
          "metadata": {},
          "output_type": "execute_result"
        }
      ],
      "source": [
        "len(set2)"
      ]
    },
    {
      "cell_type": "code",
      "execution_count": 133,
      "metadata": {
        "id": "0PnjsTVaw2X0"
      },
      "outputs": [],
      "source": [
        "k = frozenset([1,2,3,4])\n",
        "k2 = set([1,2,3])"
      ]
    },
    {
      "cell_type": "code",
      "execution_count": 134,
      "metadata": {
        "colab": {
          "base_uri": "https://localhost:8080/"
        },
        "id": "uTd-m1YAxSZd",
        "outputId": "6982f1b0-6bbe-4d48-e16e-3abbce94e039"
      },
      "outputs": [
        {
          "data": {
            "text/plain": [
              "{1, 2, 3, 20}"
            ]
          },
          "execution_count": 134,
          "metadata": {},
          "output_type": "execute_result"
        }
      ],
      "source": [
        "k2.add(20)\n",
        "k2"
      ]
    },
    {
      "cell_type": "code",
      "execution_count": 135,
      "metadata": {
        "colab": {
          "base_uri": "https://localhost:8080/",
          "height": 187
        },
        "id": "smov-2Bhxk-1",
        "outputId": "0f2da34e-6daf-46be-8b8e-9ebb5bb9fc3d"
      },
      "outputs": [
        {
          "ename": "AttributeError",
          "evalue": "ignored",
          "output_type": "error",
          "traceback": [
            "\u001b[0;31m---------------------------------------------------------------------------\u001b[0m",
            "\u001b[0;31mAttributeError\u001b[0m                            Traceback (most recent call last)",
            "\u001b[0;32m<ipython-input-135-bf4e057a209c>\u001b[0m in \u001b[0;36m<module>\u001b[0;34m\u001b[0m\n\u001b[0;32m----> 1\u001b[0;31m \u001b[0mk\u001b[0m\u001b[0;34m.\u001b[0m\u001b[0madd\u001b[0m\u001b[0;34m(\u001b[0m\u001b[0;36m2000\u001b[0m\u001b[0;34m)\u001b[0m\u001b[0;34m\u001b[0m\u001b[0;34m\u001b[0m\u001b[0m\n\u001b[0m\u001b[1;32m      2\u001b[0m \u001b[0mk\u001b[0m\u001b[0;34m\u001b[0m\u001b[0;34m\u001b[0m\u001b[0m\n",
            "\u001b[0;31mAttributeError\u001b[0m: 'frozenset' object has no attribute 'add'"
          ]
        }
      ],
      "source": [
        "k.add(2000)\n",
        "k"
      ]
    },
    {
      "cell_type": "markdown",
      "metadata": {
        "id": "8gitocQ9df3z"
      },
      "source": [
        "Tuple"
      ]
    },
    {
      "cell_type": "code",
      "execution_count": 136,
      "metadata": {
        "id": "GTgZF3O_xnwf"
      },
      "outputs": [],
      "source": [
        "our_tuple = (1,2,3,'hi') "
      ]
    },
    {
      "cell_type": "code",
      "execution_count": 137,
      "metadata": {
        "colab": {
          "base_uri": "https://localhost:8080/"
        },
        "id": "j3MM3QESdhh0",
        "outputId": "20f159d4-bea7-4fa3-d9bf-dd3c1920a6ac"
      },
      "outputs": [
        {
          "data": {
            "text/plain": [
              "1"
            ]
          },
          "execution_count": 137,
          "metadata": {},
          "output_type": "execute_result"
        }
      ],
      "source": [
        "our_tuple[0]"
      ]
    },
    {
      "cell_type": "code",
      "execution_count": 138,
      "metadata": {
        "colab": {
          "base_uri": "https://localhost:8080/",
          "height": 169
        },
        "id": "9g1-CfsmdhkW",
        "outputId": "7b6cbdeb-e375-4cf5-f28e-9f1e49e263b2"
      },
      "outputs": [
        {
          "ename": "TypeError",
          "evalue": "ignored",
          "output_type": "error",
          "traceback": [
            "\u001b[0;31m---------------------------------------------------------------------------\u001b[0m",
            "\u001b[0;31mTypeError\u001b[0m                                 Traceback (most recent call last)",
            "\u001b[0;32m<ipython-input-138-bfc5930dfe70>\u001b[0m in \u001b[0;36m<module>\u001b[0;34m\u001b[0m\n\u001b[0;32m----> 1\u001b[0;31m \u001b[0mour_tuple\u001b[0m\u001b[0;34m[\u001b[0m\u001b[0;36m0\u001b[0m\u001b[0;34m]\u001b[0m \u001b[0;34m=\u001b[0m \u001b[0;36m20\u001b[0m\u001b[0;34m\u001b[0m\u001b[0;34m\u001b[0m\u001b[0m\n\u001b[0m",
            "\u001b[0;31mTypeError\u001b[0m: 'tuple' object does not support item assignment"
          ]
        }
      ],
      "source": [
        "our_tuple[0] = 20"
      ]
    },
    {
      "cell_type": "code",
      "execution_count": 139,
      "metadata": {
        "colab": {
          "base_uri": "https://localhost:8080/"
        },
        "id": "MelU3Sp4dZp6",
        "outputId": "c2838016-f0a6-47ba-cc67-2637774eac73"
      },
      "outputs": [
        {
          "data": {
            "text/plain": [
              "3"
            ]
          },
          "execution_count": 139,
          "metadata": {},
          "output_type": "execute_result"
        }
      ],
      "source": [
        "our_tuple.index('hi') "
      ]
    },
    {
      "cell_type": "code",
      "execution_count": 140,
      "metadata": {
        "colab": {
          "base_uri": "https://localhost:8080/"
        },
        "id": "ro8idR8tdZsb",
        "outputId": "6981e5a5-74f6-4f11-c991-c56777b1ac0b"
      },
      "outputs": [
        {
          "data": {
            "text/plain": [
              "1"
            ]
          },
          "execution_count": 140,
          "metadata": {},
          "output_type": "execute_result"
        }
      ],
      "source": [
        "our_tuple.count(2)"
      ]
    },
    {
      "cell_type": "code",
      "execution_count": 141,
      "metadata": {
        "colab": {
          "base_uri": "https://localhost:8080/"
        },
        "id": "r2EQ1YC1dZu6",
        "outputId": "6577c9bf-b4b1-4508-dd98-b6f13bc9208f"
      },
      "outputs": [
        {
          "data": {
            "text/plain": [
              "4"
            ]
          },
          "execution_count": 141,
          "metadata": {},
          "output_type": "execute_result"
        }
      ],
      "source": [
        "len(our_tuple)"
      ]
    },
    {
      "cell_type": "code",
      "execution_count": 142,
      "metadata": {
        "colab": {
          "base_uri": "https://localhost:8080/",
          "height": 169
        },
        "id": "u6CFN0gDdZxT",
        "outputId": "5d1c42d3-be26-4e05-ca6c-0d65459a0438"
      },
      "outputs": [
        {
          "ename": "TypeError",
          "evalue": "ignored",
          "output_type": "error",
          "traceback": [
            "\u001b[0;31m---------------------------------------------------------------------------\u001b[0m",
            "\u001b[0;31mTypeError\u001b[0m                                 Traceback (most recent call last)",
            "\u001b[0;32m<ipython-input-142-cdd4e47b3e30>\u001b[0m in \u001b[0;36m<module>\u001b[0;34m\u001b[0m\n\u001b[0;32m----> 1\u001b[0;31m \u001b[0mmin\u001b[0m\u001b[0;34m(\u001b[0m\u001b[0mour_tuple\u001b[0m\u001b[0;34m)\u001b[0m\u001b[0;34m\u001b[0m\u001b[0;34m\u001b[0m\u001b[0m\n\u001b[0m",
            "\u001b[0;31mTypeError\u001b[0m: '<' not supported between instances of 'str' and 'int'"
          ]
        }
      ],
      "source": [
        "min(our_tuple) "
      ]
    },
    {
      "cell_type": "code",
      "execution_count": 143,
      "metadata": {
        "colab": {
          "base_uri": "https://localhost:8080/"
        },
        "id": "X8P62nKfdZ2E",
        "outputId": "69b5bbb2-62d7-40ed-9aaf-5b614c4d2741"
      },
      "outputs": [
        {
          "data": {
            "text/plain": [
              "-1"
            ]
          },
          "execution_count": 143,
          "metadata": {},
          "output_type": "execute_result"
        }
      ],
      "source": [
        "our_tuple = (1,2,3,4,90,-1,0)\n",
        "min(our_tuple)"
      ]
    },
    {
      "cell_type": "code",
      "execution_count": 144,
      "metadata": {
        "colab": {
          "base_uri": "https://localhost:8080/"
        },
        "id": "RhdIXJkHgh5h",
        "outputId": "a31267b3-7bf3-43ca-e7f0-67127d6e4fd2"
      },
      "outputs": [
        {
          "data": {
            "text/plain": [
              "90"
            ]
          },
          "execution_count": 144,
          "metadata": {},
          "output_type": "execute_result"
        }
      ],
      "source": [
        "our_tuple = (1,2,3,4,90,-1,0)\n",
        "max(our_tuple)"
      ]
    },
    {
      "cell_type": "markdown",
      "metadata": {
        "id": "jv7mO7LNgsiN"
      },
      "source": [
        "Dict"
      ]
    },
    {
      "cell_type": "code",
      "execution_count": 239,
      "metadata": {
        "id": "OaoVdANJgh7w"
      },
      "outputs": [],
      "source": [
        "shopping_dict = {'apple' : 100,\n",
        "                 'orange' : 5,\n",
        "                 'banana' : 2,\n",
        "                 'strawberries' : 1} "
      ]
    },
    {
      "cell_type": "code",
      "execution_count": 229,
      "metadata": {
        "colab": {
          "base_uri": "https://localhost:8080/",
          "height": 169
        },
        "id": "LekoYaOtgh99",
        "outputId": "ee9c5f8c-bb7c-473b-c4b4-259d19a38638"
      },
      "outputs": [
        {
          "ename": "KeyError",
          "evalue": "ignored",
          "output_type": "error",
          "traceback": [
            "\u001b[0;31m---------------------------------------------------------------------------\u001b[0m",
            "\u001b[0;31mKeyError\u001b[0m                                  Traceback (most recent call last)",
            "\u001b[0;32m<ipython-input-229-1b5eca6b6eb3>\u001b[0m in \u001b[0;36m<module>\u001b[0;34m\u001b[0m\n\u001b[0;32m----> 1\u001b[0;31m \u001b[0mshopping_dict\u001b[0m\u001b[0;34m[\u001b[0m\u001b[0;34m'user_id'\u001b[0m\u001b[0;34m]\u001b[0m\u001b[0;34m\u001b[0m\u001b[0;34m\u001b[0m\u001b[0m\n\u001b[0m",
            "\u001b[0;31mKeyError\u001b[0m: 'user_id'"
          ]
        }
      ],
      "source": [
        "shopping_dict['user_id']"
      ]
    },
    {
      "cell_type": "code",
      "execution_count": 230,
      "metadata": {
        "colab": {
          "base_uri": "https://localhost:8080/"
        },
        "id": "CxSIdFHdnCxn",
        "outputId": "a0f8c0e2-90b6-4c35-cf50-e689a0d5cd08"
      },
      "outputs": [
        {
          "data": {
            "text/plain": [
              "dict_keys(['apple', 'orange', 'banana', 'strawberries'])"
            ]
          },
          "execution_count": 230,
          "metadata": {},
          "output_type": "execute_result"
        }
      ],
      "source": [
        "shopping_dict.keys()"
      ]
    },
    {
      "cell_type": "code",
      "execution_count": 231,
      "metadata": {
        "colab": {
          "base_uri": "https://localhost:8080/"
        },
        "id": "I5Wvo-J4nKzO",
        "outputId": "72e07aa5-3078-4da9-d1f0-1a9279c99a48"
      },
      "outputs": [
        {
          "data": {
            "text/plain": [
              "dict_values([100, 5, 2, 1])"
            ]
          },
          "execution_count": 231,
          "metadata": {},
          "output_type": "execute_result"
        }
      ],
      "source": [
        "shopping_dict.values()"
      ]
    },
    {
      "cell_type": "code",
      "execution_count": 227,
      "metadata": {
        "colab": {
          "base_uri": "https://localhost:8080/"
        },
        "id": "FoFOQb9_nPSO",
        "outputId": "a940dfa4-7034-4e8b-8aef-db59c172faf8"
      },
      "outputs": [
        {
          "data": {
            "text/plain": [
              "{'a': 0, 'b': 0, 'c': 0}"
            ]
          },
          "execution_count": 227,
          "metadata": {},
          "output_type": "execute_result"
        }
      ],
      "source": [
        "shopping_dict2 = shopping_dict.fromkeys(['a','b','c'], 0)\n",
        "shopping_dict2"
      ]
    },
    {
      "cell_type": "code",
      "execution_count": 233,
      "metadata": {
        "colab": {
          "base_uri": "https://localhost:8080/"
        },
        "id": "On98N058nrL1",
        "outputId": "9252caa1-bae3-463c-bbc0-a275fc02e1fe"
      },
      "outputs": [
        {
          "data": {
            "text/plain": [
              "100"
            ]
          },
          "execution_count": 233,
          "metadata": {},
          "output_type": "execute_result"
        }
      ],
      "source": [
        "shopping_dict.get('apple', 'sorry, no apples left')"
      ]
    },
    {
      "cell_type": "code",
      "execution_count": 235,
      "metadata": {
        "colab": {
          "base_uri": "https://localhost:8080/"
        },
        "id": "C9GmZwwjnrOW",
        "outputId": "7d67b5ea-6ec5-465f-cf2c-7c711cfc1c44"
      },
      "outputs": [
        {
          "data": {
            "text/plain": [
              "0"
            ]
          },
          "execution_count": 235,
          "metadata": {},
          "output_type": "execute_result"
        }
      ],
      "source": [
        "shopping_dict.get('mango', 'sorry, no mango left')"
      ]
    },
    {
      "cell_type": "code",
      "execution_count": 236,
      "metadata": {
        "colab": {
          "base_uri": "https://localhost:8080/"
        },
        "id": "d8Wgj6qnoYZV",
        "outputId": "a5cb1410-7861-487d-ca9b-8765d1667254"
      },
      "outputs": [
        {
          "data": {
            "text/plain": [
              "dict_items([('apple', 100), ('orange', 5), ('banana', 2), ('strawberries', 1)])"
            ]
          },
          "execution_count": 236,
          "metadata": {},
          "output_type": "execute_result"
        }
      ],
      "source": [
        "shopping_dict.items()"
      ]
    },
    {
      "cell_type": "code",
      "execution_count": 153,
      "metadata": {
        "colab": {
          "base_uri": "https://localhost:8080/"
        },
        "id": "L3sNA96FoYbx",
        "outputId": "bad8c27b-d836-4131-907c-aad28bccd08c"
      },
      "outputs": [
        {
          "name": "stdout",
          "output_type": "stream",
          "text": [
            "apple\n",
            "orange\n",
            "banana\n",
            "strawberries\n"
          ]
        }
      ],
      "source": [
        "for i in shopping_dict.items():\n",
        "  print(i[0]) "
      ]
    },
    {
      "cell_type": "code",
      "execution_count": 240,
      "metadata": {
        "colab": {
          "base_uri": "https://localhost:8080/"
        },
        "id": "3HH6MHxBoYej",
        "outputId": "2d8ab443-3516-4a3b-a4f5-15b23f605e9d"
      },
      "outputs": [
        {
          "name": "stdout",
          "output_type": "stream",
          "text": [
            "100\n"
          ]
        }
      ],
      "source": [
        "val1 = shopping_dict.pop('apple')\n",
        "print(val1) "
      ]
    },
    {
      "cell_type": "code",
      "execution_count": 241,
      "metadata": {
        "colab": {
          "base_uri": "https://localhost:8080/"
        },
        "id": "cgeQR30PoY4i",
        "outputId": "45f34e30-82da-4a9c-b657-15815fe3f52e"
      },
      "outputs": [
        {
          "data": {
            "text/plain": [
              "{'orange': 5, 'banana': 2, 'strawberries': 1}"
            ]
          },
          "execution_count": 241,
          "metadata": {},
          "output_type": "execute_result"
        }
      ],
      "source": [
        "shopping_dict"
      ]
    },
    {
      "cell_type": "code",
      "execution_count": 242,
      "metadata": {
        "colab": {
          "base_uri": "https://localhost:8080/"
        },
        "id": "NfH4AtNt3-U1",
        "outputId": "2ffdd334-91d0-4262-916d-b2ec96884df1"
      },
      "outputs": [
        {
          "name": "stdout",
          "output_type": "stream",
          "text": [
            "{'straight': 'Graham Chapman', 'curved': 'John Cleese', 'drawn': 'Terry Gilliam', 'mild': 'Michael Palin'}\n"
          ]
        }
      ],
      "source": [
        "d={\"straight\" : \"Graham Chapman\",\n",
        " \"curved\" : \"John Cleese\",\n",
        " \"drawn\" : \"Terry Gilliam\",\n",
        " \"mild\" : \"Michael Palin\"}\n",
        " \n",
        "print(d)"
      ]
    },
    {
      "cell_type": "code",
      "execution_count": 243,
      "metadata": {
        "colab": {
          "base_uri": "https://localhost:8080/"
        },
        "id": "_mF9Fa823-Xt",
        "outputId": "50c99be8-274d-4bfb-e298-26147b032fb7"
      },
      "outputs": [
        {
          "name": "stdout",
          "output_type": "stream",
          "text": [
            "Graeme Stewart and some other guy\n"
          ]
        }
      ],
      "source": [
        "d[\"extra\"] = \"Graeme Stewart\" # Add or mutate values just by setting them\n",
        "d[\"curved\"] = \"some other guy\"\n",
        "print(d[\"extra\"], \"and\", d[\"curved\"])\n"
      ]
    },
    {
      "cell_type": "code",
      "execution_count": 244,
      "metadata": {
        "colab": {
          "base_uri": "https://localhost:8080/"
        },
        "id": "_DL840UQSLBO",
        "outputId": "e1e29f02-7561-4366-a996-87b6e0a9b216"
      },
      "outputs": [
        {
          "name": "stdout",
          "output_type": "stream",
          "text": [
            "{'straight': 'Graham Chapman', 'curved': 'some other guy', 'drawn': 'Terry Gilliam', 'mild': 'Michael Palin', 'extra': 'Graeme Stewart'}\n"
          ]
        }
      ],
      "source": [
        "print(d)"
      ]
    },
    {
      "cell_type": "code",
      "execution_count": 245,
      "metadata": {
        "id": "oUn0XLfb3-aZ"
      },
      "outputs": [],
      "source": [
        "del d[\"extra\"] # Use the del operator to remove entries\n",
        "\"extra\" in d # This is the notation to ask if a certain key exists in the\n",
        "# dictionary"
      ]
    },
    {
      "cell_type": "code",
      "execution_count": 248,
      "metadata": {
        "colab": {
          "base_uri": "https://localhost:8080/"
        },
        "id": "RcSeVu-mSf0r",
        "outputId": "3f59e31e-e530-4bf3-ff1c-4b65324011ba"
      },
      "outputs": [
        {
          "data": {
            "text/plain": [
              "True"
            ]
          },
          "execution_count": 248,
          "metadata": {},
          "output_type": "execute_result"
        }
      ],
      "source": [
        "\"straight\" in d "
      ]
    },
    {
      "cell_type": "code",
      "execution_count": 246,
      "metadata": {
        "colab": {
          "base_uri": "https://localhost:8080/"
        },
        "id": "lEgcN3m7SY58",
        "outputId": "fadb4612-d5e3-48f3-f172-5755cc60248b"
      },
      "outputs": [
        {
          "name": "stdout",
          "output_type": "stream",
          "text": [
            "{'straight': 'Graham Chapman', 'curved': 'some other guy', 'drawn': 'Terry Gilliam', 'mild': 'Michael Palin'}\n"
          ]
        }
      ],
      "source": [
        "print(d)"
      ]
    },
    {
      "cell_type": "markdown",
      "metadata": {
        "id": "sP-gfkUcE1Wf"
      },
      "source": [
        "None / Null"
      ]
    },
    {
      "cell_type": "code",
      "execution_count": 159,
      "metadata": {
        "colab": {
          "base_uri": "https://localhost:8080/"
        },
        "id": "Lq699DOJEzaq",
        "outputId": "1a57938a-4a9c-4424-cc51-61cd59f12758"
      },
      "outputs": [
        {
          "name": "stdout",
          "output_type": "stream",
          "text": [
            "None\n"
          ]
        }
      ],
      "source": [
        "not_here = None\n",
        "print(not_here)"
      ]
    },
    {
      "cell_type": "code",
      "execution_count": 160,
      "metadata": {
        "colab": {
          "base_uri": "https://localhost:8080/"
        },
        "id": "gZbhKKysEzdM",
        "outputId": "8f064791-9cca-412b-f52b-c4b28a227b01"
      },
      "outputs": [
        {
          "data": {
            "text/plain": [
              "NoneType"
            ]
          },
          "execution_count": 160,
          "metadata": {},
          "output_type": "execute_result"
        }
      ],
      "source": [
        "type(not_here)"
      ]
    },
    {
      "cell_type": "code",
      "execution_count": 161,
      "metadata": {
        "colab": {
          "base_uri": "https://localhost:8080/"
        },
        "id": "ASZnAmaQEzfr",
        "outputId": "731d67e5-049c-42e3-e45c-1c102741be0d"
      },
      "outputs": [
        {
          "data": {
            "text/plain": [
              "True"
            ]
          },
          "execution_count": 161,
          "metadata": {},
          "output_type": "execute_result"
        }
      ],
      "source": [
        "not_here2 = None\n",
        "not_here == not_here2"
      ]
    },
    {
      "cell_type": "markdown",
      "metadata": {
        "id": "tuai83zf6h1n"
      },
      "source": [
        "If Elif Else blocks"
      ]
    },
    {
      "cell_type": "code",
      "execution_count": 250,
      "metadata": {
        "colab": {
          "base_uri": "https://localhost:8080/"
        },
        "id": "yd8DmGnaoZL-",
        "outputId": "24bcc744-abd5-4cd9-972f-87ebaf6d66ae"
      },
      "outputs": [
        {
          "name": "stdout",
          "output_type": "stream",
          "text": [
            "please input the number10\n",
            "your number is even\n"
          ]
        }
      ],
      "source": [
        "input_number = int(input('please input the number'))\n",
        "\n",
        "# if input_number == 5:\n",
        "#   print('your number is 5')\n",
        "# else:\n",
        "#   print('not 5')\n",
        "\n",
        "if input_number % 2 != 0:\n",
        "  print('your number is odd')\n",
        "else:\n",
        "  print('your number is even')"
      ]
    },
    {
      "cell_type": "code",
      "execution_count": 252,
      "metadata": {
        "colab": {
          "base_uri": "https://localhost:8080/"
        },
        "id": "EnJ3Pm2ap1Ob",
        "outputId": "097f2ec2-5acc-47e8-8a14-c0128140ec5c"
      },
      "outputs": [
        {
          "name": "stdout",
          "output_type": "stream",
          "text": [
            "insert sentencehello\n",
            "keywordwww\n",
            " inserted word www not found\n"
          ]
        }
      ],
      "source": [
        "input_sentence = input('insert sentence')\n",
        "keyword = input('keyword')\n",
        "\n",
        "if keyword in input_sentence:\n",
        "  print(f'keyword starts from index {input_sentence.find(keyword)}')\n",
        "else:\n",
        "  print(f' inserted word {keyword} not found') "
      ]
    },
    {
      "cell_type": "code",
      "execution_count": 253,
      "metadata": {
        "colab": {
          "base_uri": "https://localhost:8080/"
        },
        "id": "G-rtWDTdp1Qy",
        "outputId": "49f3e1fa-5293-4e18-b081-27dca0da9663"
      },
      "outputs": [
        {
          "name": "stdout",
          "output_type": "stream",
          "text": [
            "number 1  10\n",
            "number 2  5\n",
            "2\n"
          ]
        }
      ],
      "source": [
        "num1 = int(input('number 1  '))\n",
        "num2 = int(input('number 2  '))\n",
        "\n",
        "if num1 > num2:\n",
        "  print(num1//num2)\n",
        "elif num1 < num2:\n",
        "  print(num2 % num1)\n",
        "else:\n",
        "    print('equal')"
      ]
    },
    {
      "cell_type": "markdown",
      "metadata": {
        "id": "YxE0bn02HxMZ"
      },
      "source": [
        "For loops"
      ]
    },
    {
      "cell_type": "code",
      "execution_count": 167,
      "metadata": {
        "colab": {
          "base_uri": "https://localhost:8080/"
        },
        "id": "Z1Zs4HMaATA8",
        "outputId": "28b838f9-384f-4901-b5c5-d0af6a876052"
      },
      "outputs": [
        {
          "name": "stdout",
          "output_type": "stream",
          "text": [
            "1\n",
            "2\n",
            "3\n",
            "4\n",
            "5\n",
            "6\n"
          ]
        }
      ],
      "source": [
        "our_list1 = [1,2,3,4,5,6]\n",
        "\n",
        "for item in our_list1:\n",
        "  print(item)\n"
      ]
    },
    {
      "cell_type": "code",
      "execution_count": 254,
      "metadata": {
        "colab": {
          "base_uri": "https://localhost:8080/"
        },
        "id": "KHzsi8h9ATJ6",
        "outputId": "d9b2a37a-c884-4ecc-e3fd-bab42d70ae35"
      },
      "outputs": [
        {
          "name": "stdout",
          "output_type": "stream",
          "text": [
            "21\n"
          ]
        }
      ],
      "source": [
        "our_list1 = [1,2,3,4,5,6]\n",
        "result = 0\n",
        "for item in our_list1:\n",
        "  result += item # += -= *=\n",
        "\n",
        "print(result)"
      ]
    },
    {
      "cell_type": "code",
      "execution_count": 255,
      "metadata": {
        "colab": {
          "base_uri": "https://localhost:8080/"
        },
        "id": "1jjz-kRBp1TH",
        "outputId": "3a208235-a870-4bc5-f643-9fad0e38ce55"
      },
      "outputs": [
        {
          "name": "stdout",
          "output_type": "stream",
          "text": [
            "12\n"
          ]
        }
      ],
      "source": [
        "our_list1 = [1,2,3,4,5,6]\n",
        "result = 0\n",
        "for item in our_list1:\n",
        "  if item % 2 == 0:\n",
        "    result += item\n",
        "\n",
        "print(result)"
      ]
    },
    {
      "cell_type": "code",
      "execution_count": 256,
      "metadata": {
        "colab": {
          "base_uri": "https://localhost:8080/"
        },
        "id": "LXXy8ggdp1VF",
        "outputId": "e9feec94-692e-40e3-c326-ea6cda594b69"
      },
      "outputs": [
        {
          "name": "stdout",
          "output_type": "stream",
          "text": [
            "18\n"
          ]
        }
      ],
      "source": [
        "our_list1 = [1,2,'hey',4,5,6]\n",
        "result = 0\n",
        "for item in our_list1:\n",
        "  if isinstance(item, int):\n",
        "    result += item\n",
        "\n",
        "print(result)"
      ]
    },
    {
      "cell_type": "code",
      "execution_count": 171,
      "metadata": {
        "colab": {
          "base_uri": "https://localhost:8080/"
        },
        "id": "Hg45F8iGoZOV",
        "outputId": "3ed30d65-d684-4c09-dabe-c85b9472ccf2"
      },
      "outputs": [
        {
          "name": "stdout",
          "output_type": "stream",
          "text": [
            "18\n"
          ]
        }
      ],
      "source": [
        "our_list1 = [1,2,'hey',4,5,6, -20]\n",
        "result = 0\n",
        "for item in our_list1:\n",
        "  if isinstance(item, int) and item > 0: #or\n",
        "    result += item\n",
        "\n",
        "print(result)"
      ]
    },
    {
      "cell_type": "code",
      "execution_count": 257,
      "metadata": {
        "colab": {
          "base_uri": "https://localhost:8080/"
        },
        "id": "qhWy2hOwno9m",
        "outputId": "f2f9f3d4-0b48-4f77-c1ad-ebbbdcf50bf1"
      },
      "outputs": [
        {
          "name": "stdout",
          "output_type": "stream",
          "text": [
            "[1, 2, 'hey', 4, 25, 12, 22, 334, 20, 6, -20]\n"
          ]
        }
      ],
      "source": [
        "our_list1 = [1,2,'hey',4,5,12,22,334,20,6, -20]\n",
        "\n",
        "for index in range(len(our_list1)): # -> 0, 1, 2, 3, ......, 10 \n",
        "  if isinstance(our_list1[index], int) and our_list1[index] % 2 != 0:\n",
        "      our_list1[index] = our_list1[index] ** 2\n",
        "\n",
        "print(our_list1) # 5 -> 25"
      ]
    },
    {
      "cell_type": "markdown",
      "metadata": {
        "id": "uz50U-NP6Y4h"
      },
      "source": [
        "While loop"
      ]
    },
    {
      "cell_type": "code",
      "execution_count": 173,
      "metadata": {
        "colab": {
          "base_uri": "https://localhost:8080/"
        },
        "id": "oofQcNpeKqPP",
        "outputId": "d396c8e6-9c99-4cff-c61a-65a1fe2352fd"
      },
      "outputs": [
        {
          "name": "stdout",
          "output_type": "stream",
          "text": [
            "0\n",
            "1\n",
            "2\n",
            "3\n",
            "4\n"
          ]
        }
      ],
      "source": [
        "i=0\n",
        "while (i<5):\n",
        " print(i)\n",
        " i+=1 "
      ]
    },
    {
      "cell_type": "code",
      "execution_count": 258,
      "metadata": {
        "colab": {
          "base_uri": "https://localhost:8080/"
        },
        "id": "-6jz3fYi6gTn",
        "outputId": "1e5c9f27-498b-402b-944a-b9ff28c93775"
      },
      "outputs": [
        {
          "name": "stdout",
          "output_type": "stream",
          "text": [
            "Enter n:  7\n",
            "The sum is 28\n"
          ]
        }
      ],
      "source": [
        "# Program to add natural\n",
        "# numbers up to n\n",
        "# sum = 1+2+3+...+n\n",
        "\n",
        "# To take input from the user,\n",
        "# n = int(input(\"Enter n: \"))\n",
        "\n",
        "n = int(input('Enter n:  '))\n",
        "\n",
        "# initialize sum and counter\n",
        "sum = 0\n",
        "i = 1\n",
        "\n",
        "while i <= n:\n",
        "    sum = sum + i\n",
        "    i = i+1    # update counter\n",
        "\n",
        "# print the sum\n",
        "print(\"The sum is\", sum)"
      ]
    },
    {
      "cell_type": "code",
      "execution_count": 13,
      "metadata": {
        "colab": {
          "base_uri": "https://localhost:8080/"
        },
        "id": "zmadRyo96gWA",
        "outputId": "13ffb1b7-5eef-44fd-fbac-6159b0baed6f"
      },
      "outputs": [
        {
          "name": "stdout",
          "output_type": "stream",
          "text": [
            "Inside loop\n",
            "Inside loop\n",
            "Inside loop\n",
            "Inside else\n"
          ]
        }
      ],
      "source": [
        "'''Example to illustrate\n",
        "the use of else statement\n",
        "with the while loop'''\n",
        "\n",
        "counter = 0\n",
        "\n",
        "while counter < 3:\n",
        "    print(\"Inside loop\")\n",
        "    counter += 1\n",
        "else:\n",
        "    print(\"Inside else\")"
      ]
    },
    {
      "cell_type": "markdown",
      "metadata": {
        "id": "5ZIb1SOb6dUi"
      },
      "source": [
        "Continue / Break"
      ]
    },
    {
      "cell_type": "code",
      "execution_count": 259,
      "metadata": {
        "colab": {
          "base_uri": "https://localhost:8080/"
        },
        "id": "-8wOp46D4iAH",
        "outputId": "1c6eb660-6b2c-4c9a-e69a-a63fbc0063ef"
      },
      "outputs": [
        {
          "name": "stdout",
          "output_type": "stream",
          "text": [
            "bark\n",
            "roll over\n"
          ]
        }
      ],
      "source": [
        "words = ['bark', 'nothing', 'roll over', 'die', 'eat']\n",
        "for cmd in words:\n",
        " if cmd == 'nothing':\n",
        "  continue\n",
        " if cmd == 'die':\n",
        "  break\n",
        " print(cmd)"
      ]
    },
    {
      "cell_type": "code",
      "execution_count": 10,
      "metadata": {
        "colab": {
          "base_uri": "https://localhost:8080/"
        },
        "id": "yyCwmgaA7DsE",
        "outputId": "fa55b0d4-c780-451f-d0e2-552f7ccf83cd"
      },
      "outputs": [
        {
          "name": "stdout",
          "output_type": "stream",
          "text": [
            "1\n",
            "2\n",
            "3\n"
          ]
        }
      ],
      "source": [
        "i = 1\n",
        "while i < 6:\n",
        "  print(i)\n",
        "  if i == 3:\n",
        "    break\n",
        "  i += 1"
      ]
    },
    {
      "cell_type": "code",
      "execution_count": 261,
      "metadata": {
        "colab": {
          "base_uri": "https://localhost:8080/"
        },
        "id": "MoS2l98t7Jv1",
        "outputId": "bb10bead-f467-4d41-cccb-c67d22e6cfc1"
      },
      "outputs": [
        {
          "name": "stdout",
          "output_type": "stream",
          "text": [
            "1\n",
            "2\n",
            "4\n",
            "5\n",
            "6\n"
          ]
        }
      ],
      "source": [
        "i = 0\n",
        "while i < 6:\n",
        "  i += 1\n",
        "  if i == 3:\n",
        "    continue\n",
        "  print(i)"
      ]
    },
    {
      "cell_type": "markdown",
      "metadata": {
        "id": "yaOdyh0q46Io"
      },
      "source": [
        "List Comprehensions"
      ]
    },
    {
      "cell_type": "code",
      "execution_count": 7,
      "metadata": {
        "colab": {
          "base_uri": "https://localhost:8080/"
        },
        "id": "s2TcG69x4iC6",
        "outputId": "3f4c4b3d-3a54-4529-e225-fc57e93f342f"
      },
      "outputs": [
        {
          "data": {
            "text/plain": [
              "[1, 9, 25, 49, 121, 169, 289]"
            ]
          },
          "execution_count": 7,
          "metadata": {},
          "output_type": "execute_result"
        }
      ],
      "source": [
        "our_list = [ x**2 for x in [1, 3, 5, 7, 11, 13, 17] ]\n",
        "our_list"
      ]
    },
    {
      "cell_type": "code",
      "execution_count": 8,
      "metadata": {
        "colab": {
          "base_uri": "https://localhost:8080/"
        },
        "id": "FIMjWulp4iH1",
        "outputId": "e038a86c-7e21-4f8c-cc1f-4c49e1d23e8d"
      },
      "outputs": [
        {
          "data": {
            "text/plain": [
              "[100, 400, 900, 1600, 2500, 3600, 4900, 6400, 8100]"
            ]
          },
          "execution_count": 8,
          "metadata": {},
          "output_type": "execute_result"
        }
      ],
      "source": [
        "second_list = [ x**2 for x in range(1,100) if x%10 == 0 ]\n",
        "second_list"
      ]
    },
    {
      "cell_type": "markdown",
      "metadata": {
        "id": "IBPRRfpt5XMn"
      },
      "source": [
        "Dict Comprehensions"
      ]
    },
    {
      "cell_type": "code",
      "execution_count": 9,
      "metadata": {
        "colab": {
          "base_uri": "https://localhost:8080/"
        },
        "id": "dq6ej3ru4iNV",
        "outputId": "fa3c4985-9a56-40da-abc7-f2a70d91787b"
      },
      "outputs": [
        {
          "data": {
            "text/plain": [
              "{10: 100,\n",
              " 20: 400,\n",
              " 30: 900,\n",
              " 40: 1600,\n",
              " 50: 2500,\n",
              " 60: 3600,\n",
              " 70: 4900,\n",
              " 80: 6400,\n",
              " 90: 8100}"
            ]
          },
          "execution_count": 9,
          "metadata": {},
          "output_type": "execute_result"
        }
      ],
      "source": [
        "our_dict = {x: x**2 for x in range(1,100) if x%10 == 0 }\n",
        "our_dict"
      ]
    },
    {
      "cell_type": "markdown",
      "metadata": {
        "id": "421LA6Kc5riz"
      },
      "source": [
        "Functions"
      ]
    },
    {
      "cell_type": "code",
      "execution_count": 15,
      "metadata": {
        "id": "9GyrKVIt4iQb"
      },
      "outputs": [],
      "source": [
        "def square_sum(i, j):\n",
        "  '''Function to calculate square sum'''\n",
        "  result = i ** 2 + j ** 2\n",
        "  return result"
      ]
    },
    {
      "cell_type": "code",
      "execution_count": 16,
      "metadata": {
        "colab": {
          "base_uri": "https://localhost:8080/"
        },
        "id": "mJOKKFcU5s9a",
        "outputId": "398e7b18-1937-4489-dfc5-41453f9837bb"
      },
      "outputs": [
        {
          "name": "stdout",
          "output_type": "stream",
          "text": [
            "Help on function square_sum in module __main__:\n",
            "\n",
            "square_sum(i, j)\n",
            "    Function to calculate square sum\n",
            "\n"
          ]
        }
      ],
      "source": [
        "help(square_sum) # This is the same as square_sum? in ipython"
      ]
    },
    {
      "cell_type": "code",
      "execution_count": 17,
      "metadata": {
        "colab": {
          "base_uri": "https://localhost:8080/"
        },
        "id": "UbarQBv35s_g",
        "outputId": "bc4a8bae-d44b-4415-ce5d-31db76317928"
      },
      "outputs": [
        {
          "name": "stdout",
          "output_type": "stream",
          "text": [
            "How many terms? 7\n",
            "Fibonacci sequence:\n",
            "0\n",
            "1\n",
            "1\n",
            "2\n",
            "3\n",
            "5\n",
            "8\n"
          ]
        }
      ],
      "source": [
        "# Program to display the Fibonacci sequence up to n-th term\n",
        "\n",
        "nterms = int(input(\"How many terms? \"))\n",
        "\n",
        "# first two terms\n",
        "n1, n2 = 0, 1\n",
        "count = 0\n",
        "\n",
        "# check if the number of terms is valid\n",
        "if nterms <= 0:\n",
        "   print(\"Please enter a positive integer\")\n",
        "# if there is only one term, return n1\n",
        "elif nterms == 1:\n",
        "   print(\"Fibonacci sequence upto\",nterms,\":\")\n",
        "   print(n1)\n",
        "# generate fibonacci sequence\n",
        "else:\n",
        "   print(\"Fibonacci sequence:\")\n",
        "   while count < nterms:\n",
        "       print(n1)\n",
        "       nth = n1 + n2\n",
        "       # update values\n",
        "       n1 = n2\n",
        "       n2 = nth\n",
        "       count += 1"
      ]
    },
    {
      "cell_type": "code",
      "execution_count": 18,
      "metadata": {
        "colab": {
          "base_uri": "https://localhost:8080/"
        },
        "id": "wfoGixXg5tB0",
        "outputId": "ae78e558-227e-4d5d-8965-402be30d4017"
      },
      "outputs": [
        {
          "name": "stdout",
          "output_type": "stream",
          "text": [
            "debug: True\n",
            "hello\n",
            "These are the positional arguments (1, 2, 4)\n",
            "These are the named arguments {'alice': 'good', 'bob': 'good', 'eve': 'spy'}\n"
          ]
        }
      ],
      "source": [
        "def mill(debug, *args, mesg=\"starting\", **kwargs):\n",
        " '''Process all arguments'''\n",
        " print(\"debug:\", debug)\n",
        " print(mesg)\n",
        " print(\"These are the positional arguments\", args)\n",
        " print(\"These are the named arguments\", kwargs)\n",
        "\n",
        " \n",
        "mill(True, 1, 2, 4, mesg=\"hello\", alice=\"good\", bob=\"good\", eve=\"spy\")"
      ]
    },
    {
      "cell_type": "code",
      "execution_count": 24,
      "metadata": {
        "colab": {
          "base_uri": "https://localhost:8080/"
        },
        "id": "jX8xArGl5tEU",
        "outputId": "383fc1de-f024-4c4f-e3d1-769c43d76169"
      },
      "outputs": [
        {
          "name": "stdout",
          "output_type": "stream",
          "text": [
            " 25 item found in kwargs\n"
          ]
        }
      ],
      "source": [
        "def checking(check_item, *args, mesg=\"checking in use\", **kwargs):\n",
        "  for item in args:\n",
        "    if item**2 == check_item:\n",
        "        mesg = f'item found in args: {item}'\n",
        "  if check_item in kwargs.values():\n",
        "    mesg = f' {check_item} item found in kwargs'\n",
        "\n",
        "  return mesg\n",
        "\n",
        "print(checking(25,1,2,3,4,0, mesg=\"no result\", num1 = 4, num2 = 25))"
      ]
    },
    {
      "cell_type": "markdown",
      "metadata": {
        "id": "C_UMtWCnErq2"
      },
      "source": [
        "Hackerrank problems"
      ]
    },
    {
      "cell_type": "markdown",
      "metadata": {
        "id": "TMPwjs0dFPPZ"
      },
      "source": [
        "https://www.hackerrank.com/challenges/py-if-else/problem?isFullScreen=true \n",
        "\n",
        "https://www.hackerrank.com/challenges/python-arithmetic-operators/problem?isFullScreen=true\n",
        "\n",
        "\n",
        "https://www.hackerrank.com/challenges/python-division/problem?isFullScreen=true\n",
        "\n",
        "\n",
        "https://www.hackerrank.com/challenges/python-loops/problem?isFullScreen=true\n",
        "\n"
      ]
    },
    {
      "cell_type": "markdown",
      "metadata": {
        "id": "CViv8H4fFPVa"
      },
      "source": []
    },
    {
      "cell_type": "code",
      "execution_count": null,
      "metadata": {
        "id": "mptDntwm5tGq"
      },
      "outputs": [],
      "source": []
    },
    {
      "cell_type": "code",
      "execution_count": null,
      "metadata": {
        "id": "HDuvw_yj5tI4"
      },
      "outputs": [],
      "source": []
    },
    {
      "cell_type": "code",
      "execution_count": null,
      "metadata": {
        "id": "5Sj_jlM75tP9"
      },
      "outputs": [],
      "source": []
    },
    {
      "cell_type": "code",
      "execution_count": null,
      "metadata": {
        "id": "ZB-mUSLM5tSQ"
      },
      "outputs": [],
      "source": []
    },
    {
      "cell_type": "code",
      "execution_count": null,
      "metadata": {
        "id": "CFHw4Qhn4iTS"
      },
      "outputs": [],
      "source": []
    }
  ],
  "metadata": {
    "colab": {
      "collapsed_sections": [],
      "provenance": []
    },
    "kernelspec": {
      "display_name": "Python 3.11.0 64-bit",
      "language": "python",
      "name": "python3"
    },
    "language_info": {
      "codemirror_mode": {
        "name": "ipython",
        "version": 3
      },
      "file_extension": ".py",
      "mimetype": "text/x-python",
      "name": "python",
      "nbconvert_exporter": "python",
      "pygments_lexer": "ipython3",
      "version": "3.11.0"
    },
    "vscode": {
      "interpreter": {
        "hash": "8391bbad8b28530fd96ce7ffbe732b2571598f022c78ede5d52d568a1eceae0e"
      }
    }
  },
  "nbformat": 4,
  "nbformat_minor": 0
}
